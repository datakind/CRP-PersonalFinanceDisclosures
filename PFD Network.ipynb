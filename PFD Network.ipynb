{
 "cells": [
  {
   "cell_type": "code",
   "execution_count": 1,
   "metadata": {},
   "outputs": [
    {
     "name": "stdout",
     "output_type": "stream",
     "text": [
      "Populating the interactive namespace from numpy and matplotlib\n"
     ]
    }
   ],
   "source": [
    "import os\n",
    "import pandas as pd\n",
    "import networkx as nx\n",
    "import matplotlib.pyplot as plt\n",
    "import seaborn as sns\n",
    "import numpy\n",
    "\n",
    "%pylab inline\n",
    "pylab.rcParams['figure.figsize'] = (14, 8)"
   ]
  },
  {
   "cell_type": "code",
   "execution_count": 2,
   "metadata": {},
   "outputs": [
    {
     "name": "stderr",
     "output_type": "stream",
     "text": [
      "/Library/Frameworks/Python.framework/Versions/3.6/lib/python3.6/site-packages/IPython/core/interactiveshell.py:2717: DtypeWarning: Columns (1) have mixed types. Specify dtype option on import or set low_memory=False.\n",
      "  interactivity=interactivity, compiler=compiler, result=result)\n",
      "/Library/Frameworks/Python.framework/Versions/3.6/lib/python3.6/site-packages/IPython/core/interactiveshell.py:2717: DtypeWarning: Columns (6,8,9) have mixed types. Specify dtype option on import or set low_memory=False.\n",
      "  interactivity=interactivity, compiler=compiler, result=result)\n"
     ]
    }
   ],
   "source": [
    "pacs = pd.read_csv('Campaign_Finance_data/pacs_all.csv', encoding = \"ISO-8859-1\")\n",
    "conginvest = pd.read_csv('Goal1_PFD_1of3.csv', encoding = \"ISO-8859-1\")"
   ]
  },
  {
   "cell_type": "code",
   "execution_count": 3,
   "metadata": {},
   "outputs": [
    {
     "name": "stdout",
     "output_type": "stream",
     "text": [
      "Number of PACIDs with multiple organization names:  16723\n"
     ]
    }
   ],
   "source": [
    "cmte = pd.read_csv('Campaign_Finance_data/cmtes_all.csv', encoding = \"ISO-8859-1\")\n",
    "pacs = pacs.merge(cmte[['CmteID', 'PACShort']], left_on='PACID', right_on='CmteID', how='left').drop('CmteID', axis=1)\n",
    "\n",
    "temp = pacs[['Cycle','PACID','PACShort']].drop_duplicates()\n",
    "\n",
    "print('Number of PACIDs with multiple organization names: ',\n",
    "    len(temp.groupby(['Cycle','PACID'])['PACShort'].size().reset_index(). \\\n",
    "        query('PACShort > 1'))) #16723 \n",
    "\n",
    "del temp, cmte"
   ]
  },
  {
   "cell_type": "code",
   "execution_count": 4,
   "metadata": {
    "collapsed": true
   },
   "outputs": [],
   "source": [
    "# RealCodeOut is congresspeople investing\n",
    "# RealCodeIn is industry giving money to congresspeople\n",
    "conginvest = conginvest[['CID', 'RealCode']].rename(columns={'RealCode':'RealCodeOut'}). \\\n",
    "    groupby(['CID','RealCodeOut']).size().reset_index(name='NumInvestments')\n",
    "pacs = pacs[['Cycle', 'CID', 'PACID', 'Amount', 'RealCode']].rename(columns={'RealCode':'RealCodeIn'})"
   ]
  },
  {
   "cell_type": "code",
   "execution_count": 5,
   "metadata": {},
   "outputs": [
    {
     "name": "stdout",
     "output_type": "stream",
     "text": [
      "920282\n"
     ]
    },
    {
     "data": {
      "text/html": [
       "<div>\n",
       "<style>\n",
       "    .dataframe thead tr:only-child th {\n",
       "        text-align: right;\n",
       "    }\n",
       "\n",
       "    .dataframe thead th {\n",
       "        text-align: left;\n",
       "    }\n",
       "\n",
       "    .dataframe tbody tr th {\n",
       "        vertical-align: top;\n",
       "    }\n",
       "</style>\n",
       "<table border=\"1\" class=\"dataframe\">\n",
       "  <thead>\n",
       "    <tr style=\"text-align: right;\">\n",
       "      <th></th>\n",
       "      <th>PACID</th>\n",
       "      <th>RealCodeIn</th>\n",
       "      <th>CID</th>\n",
       "      <th>Amount</th>\n",
       "    </tr>\n",
       "  </thead>\n",
       "  <tbody>\n",
       "    <tr>\n",
       "      <th>0</th>\n",
       "      <td>C00000026</td>\n",
       "      <td>H1500</td>\n",
       "      <td>N00000209</td>\n",
       "      <td>2500</td>\n",
       "    </tr>\n",
       "    <tr>\n",
       "      <th>1</th>\n",
       "      <td>C00000026</td>\n",
       "      <td>H1500</td>\n",
       "      <td>N00000659</td>\n",
       "      <td>5000</td>\n",
       "    </tr>\n",
       "    <tr>\n",
       "      <th>2</th>\n",
       "      <td>C00000026</td>\n",
       "      <td>H1500</td>\n",
       "      <td>N00000756</td>\n",
       "      <td>42630</td>\n",
       "    </tr>\n",
       "    <tr>\n",
       "      <th>3</th>\n",
       "      <td>C00000026</td>\n",
       "      <td>H1500</td>\n",
       "      <td>N00000817</td>\n",
       "      <td>2500</td>\n",
       "    </tr>\n",
       "    <tr>\n",
       "      <th>4</th>\n",
       "      <td>C00000026</td>\n",
       "      <td>H1500</td>\n",
       "      <td>N00001022</td>\n",
       "      <td>500</td>\n",
       "    </tr>\n",
       "  </tbody>\n",
       "</table>\n",
       "</div>"
      ],
      "text/plain": [
       "       PACID RealCodeIn        CID  Amount\n",
       "0  C00000026      H1500  N00000209    2500\n",
       "1  C00000026      H1500  N00000659    5000\n",
       "2  C00000026      H1500  N00000756   42630\n",
       "3  C00000026      H1500  N00000817    2500\n",
       "4  C00000026      H1500  N00001022     500"
      ]
     },
     "execution_count": 5,
     "metadata": {},
     "output_type": "execute_result"
    }
   ],
   "source": [
    "contributions = pacs. \\\n",
    "    groupby(['PACID', 'RealCodeIn', 'CID'])['Amount']. \\\n",
    "    sum().reset_index()\n",
    "\n",
    "print(len(contributions))\n",
    "contributions.head()"
   ]
  },
  {
   "cell_type": "code",
   "execution_count": 6,
   "metadata": {
    "scrolled": true
   },
   "outputs": [
    {
     "data": {
      "text/html": [
       "<div>\n",
       "<style>\n",
       "    .dataframe thead tr:only-child th {\n",
       "        text-align: right;\n",
       "    }\n",
       "\n",
       "    .dataframe thead th {\n",
       "        text-align: left;\n",
       "    }\n",
       "\n",
       "    .dataframe tbody tr th {\n",
       "        vertical-align: top;\n",
       "    }\n",
       "</style>\n",
       "<table border=\"1\" class=\"dataframe\">\n",
       "  <thead>\n",
       "    <tr style=\"text-align: right;\">\n",
       "      <th></th>\n",
       "      <th>PACID</th>\n",
       "      <th>RealCode</th>\n",
       "      <th>CID</th>\n",
       "      <th>Amount</th>\n",
       "      <th>NumInvestments</th>\n",
       "    </tr>\n",
       "  </thead>\n",
       "  <tbody>\n",
       "    <tr>\n",
       "      <th>78</th>\n",
       "      <td>C00000042</td>\n",
       "      <td>M2300</td>\n",
       "      <td>N00000561</td>\n",
       "      <td>162500</td>\n",
       "      <td>19.0</td>\n",
       "    </tr>\n",
       "    <tr>\n",
       "      <th>87</th>\n",
       "      <td>C00000042</td>\n",
       "      <td>M2300</td>\n",
       "      <td>N00001489</td>\n",
       "      <td>45500</td>\n",
       "      <td>1.0</td>\n",
       "    </tr>\n",
       "    <tr>\n",
       "      <th>99</th>\n",
       "      <td>C00000042</td>\n",
       "      <td>M2300</td>\n",
       "      <td>N00002097</td>\n",
       "      <td>13000</td>\n",
       "      <td>4.0</td>\n",
       "    </tr>\n",
       "    <tr>\n",
       "      <th>103</th>\n",
       "      <td>C00000042</td>\n",
       "      <td>M2300</td>\n",
       "      <td>N00002315</td>\n",
       "      <td>52000</td>\n",
       "      <td>10.0</td>\n",
       "    </tr>\n",
       "    <tr>\n",
       "      <th>105</th>\n",
       "      <td>C00000042</td>\n",
       "      <td>M2300</td>\n",
       "      <td>N00002328</td>\n",
       "      <td>26000</td>\n",
       "      <td>5.0</td>\n",
       "    </tr>\n",
       "  </tbody>\n",
       "</table>\n",
       "</div>"
      ],
      "text/plain": [
       "         PACID RealCode        CID  Amount  NumInvestments\n",
       "78   C00000042    M2300  N00000561  162500            19.0\n",
       "87   C00000042    M2300  N00001489   45500             1.0\n",
       "99   C00000042    M2300  N00002097   13000             4.0\n",
       "103  C00000042    M2300  N00002315   52000            10.0\n",
       "105  C00000042    M2300  N00002328   26000             5.0"
      ]
     },
     "execution_count": 6,
     "metadata": {},
     "output_type": "execute_result"
    }
   ],
   "source": [
    "df = contributions.merge(conginvest, \n",
    "                         left_on=['CID','RealCodeIn'], right_on=['CID','RealCodeOut'], how='left'). \\\n",
    "                        drop('RealCodeOut', axis=1). \\\n",
    "                        rename(columns={'RealCodeIn': 'RealCode'})\n",
    "df.dropna().head()"
   ]
  },
  {
   "cell_type": "code",
   "execution_count": 62,
   "metadata": {},
   "outputs": [
    {
     "data": {
      "text/html": [
       "<div>\n",
       "<style>\n",
       "    .dataframe thead tr:only-child th {\n",
       "        text-align: right;\n",
       "    }\n",
       "\n",
       "    .dataframe thead th {\n",
       "        text-align: left;\n",
       "    }\n",
       "\n",
       "    .dataframe tbody tr th {\n",
       "        vertical-align: top;\n",
       "    }\n",
       "</style>\n",
       "<table border=\"1\" class=\"dataframe\">\n",
       "  <thead>\n",
       "    <tr style=\"text-align: right;\">\n",
       "      <th></th>\n",
       "      <th>RealCode</th>\n",
       "      <th>CID</th>\n",
       "      <th>Amount</th>\n",
       "      <th>NumInvestments</th>\n",
       "    </tr>\n",
       "  </thead>\n",
       "  <tbody>\n",
       "    <tr>\n",
       "      <th>21</th>\n",
       "      <td>A0000</td>\n",
       "      <td>N00004645</td>\n",
       "      <td>6000</td>\n",
       "      <td>3.0</td>\n",
       "    </tr>\n",
       "    <tr>\n",
       "      <th>29</th>\n",
       "      <td>A0000</td>\n",
       "      <td>N00005559</td>\n",
       "      <td>31000</td>\n",
       "      <td>6.0</td>\n",
       "    </tr>\n",
       "    <tr>\n",
       "      <th>31</th>\n",
       "      <td>A0000</td>\n",
       "      <td>N00006263</td>\n",
       "      <td>12000</td>\n",
       "      <td>2.0</td>\n",
       "    </tr>\n",
       "    <tr>\n",
       "      <th>108</th>\n",
       "      <td>A1000</td>\n",
       "      <td>N00001329</td>\n",
       "      <td>52000</td>\n",
       "      <td>1.0</td>\n",
       "    </tr>\n",
       "    <tr>\n",
       "      <th>113</th>\n",
       "      <td>A1000</td>\n",
       "      <td>N00001510</td>\n",
       "      <td>91000</td>\n",
       "      <td>9.0</td>\n",
       "    </tr>\n",
       "  </tbody>\n",
       "</table>\n",
       "</div>"
      ],
      "text/plain": [
       "    RealCode        CID  Amount  NumInvestments\n",
       "21     A0000  N00004645    6000             3.0\n",
       "29     A0000  N00005559   31000             6.0\n",
       "31     A0000  N00006263   12000             2.0\n",
       "108    A1000  N00001329   52000             1.0\n",
       "113    A1000  N00001510   91000             9.0"
      ]
     },
     "execution_count": 62,
     "metadata": {},
     "output_type": "execute_result"
    }
   ],
   "source": [
    "industry_df = df.groupby(['RealCode', 'CID'])['Amount', 'NumInvestments']. \\\n",
    "    sum().reset_index()\n",
    "\n",
    "industry_df.dropna().head()"
   ]
  },
  {
   "cell_type": "code",
   "execution_count": 118,
   "metadata": {
    "collapsed": true
   },
   "outputs": [],
   "source": [
    "industry_subset = pd.DataFrame(industry_df.dropna()[:500])\n",
    "\n",
    "G = nx.from_pandas_dataframe(industry_subset, 'RealCode', 'CID', ['Amount', 'NumInvestments'])\n",
    "#nx.write_graphml(G, 'investmentlinks.graphml')"
   ]
  },
  {
   "cell_type": "code",
   "execution_count": 119,
   "metadata": {},
   "outputs": [],
   "source": [
    "node_size = industry_subset.groupby('RealCode')['Amount'].sum().to_dict()\n",
    "\n",
    "temp = industry_subset.groupby('CID')['Amount'].sum().to_dict()\n",
    "for key, value in temp.items(): temp[key] = 0\n",
    "node_size.update(temp)\n",
    "del temp\n",
    "\n",
    "nx.set_node_attributes(G, node_size, 'size')"
   ]
  },
  {
   "cell_type": "code",
   "execution_count": 120,
   "metadata": {},
   "outputs": [
    {
     "name": "stdout",
     "output_type": "stream",
     "text": [
      "A0000 has invested $ 31000 in N00005559, and N00005559 has made 6.0 investments in A0000\n"
     ]
    }
   ],
   "source": [
    "def connections(industry, congressperson):\n",
    "    print(industry + ' has invested $',\n",
    "      G[industry][congressperson]['Amount'],\n",
    "      'in ' + congressperson+ ', and ' + congressperson + ' has made',\n",
    "      G[industry][congressperson]['NumInvestments'],\n",
    "      'investments in ' + industry)\n",
    "\n",
    "connections('A0000','N00005559')"
   ]
  },
  {
   "cell_type": "code",
   "execution_count": 121,
   "metadata": {},
   "outputs": [
    {
     "name": "stderr",
     "output_type": "stream",
     "text": [
      "IOPub data rate exceeded.\n",
      "The notebook server will temporarily stop sending output\n",
      "to the client in order to avoid crashing it.\n",
      "To change this limit, set the config variable\n",
      "`--NotebookApp.iopub_data_rate_limit`.\n"
     ]
    }
   ],
   "source": [
    "pos = nx.spring_layout(G, scale=10, weight='Amount', k=10)\n",
    "plt.figure(figsize=(300,300))\n",
    "nx.draw_networkx(G, pos)\n",
    "\n",
    "nx.draw_networkx_labels(G, pos, font_size=2)\n",
    "\n",
    "\n",
    "sizes = [nodes[i]['size'] for i in nodes]\n",
    "for i in range(len(sizes)):\n",
    "    if sizes[i] < 1:\n",
    "        sizes[i] = 100\n",
    "    else:\n",
    "        sizes[i] = 5000\n",
    "\n",
    "nx.draw_networkx_nodes(G, pos, node_size=sizes)\n",
    "\n",
    "edges = G.edges()\n",
    "colors = [G[u][v]['NumInvestments'] for u,v in edges]\n",
    "for i in range(len(colors)):\n",
    "    if colors[i]<5:\n",
    "        colors[i] = '#0000ff'\n",
    "    elif colors[i]<10:\n",
    "        colors[i] = '#ab0fff'\n",
    "    elif colors[i]<15:\n",
    "        colors[i] = '#ffae00'\n",
    "    else:\n",
    "        colors[i] = '#ff0000'\n",
    "\n",
    "\n",
    "weights = [G[u][v]['Amount'] for u,v in edges]\n",
    "# decided not to use weights because it makes it harder to\n",
    "# use the number of nodes we have\n",
    "\n",
    "nx.draw_networkx_edges(G, pos, edge_color = colors)#, width=log(weights))\n",
    "\n",
    "edge_labels = nx.get_edge_attributes(G,'NumInvestments')\n",
    "nx.draw_networkx_edge_labels(G, pos, edge_labels = edge_labels, font_size=12)\n",
    "\n",
    "plt.savefig('graph.pdf', dpi=800)\n",
    "# the closer the node, the greater the amount the industry has contributed to that congressperson"
   ]
  },
  {
   "cell_type": "code",
   "execution_count": 53,
   "metadata": {},
   "outputs": [
    {
     "ename": "AttributeError",
     "evalue": "'NoneType' object has no attribute 'show'",
     "output_type": "error",
     "traceback": [
      "\u001b[0;31m---------------------------------------------------------------------------\u001b[0m",
      "\u001b[0;31mAttributeError\u001b[0m                            Traceback (most recent call last)",
      "\u001b[0;32m<ipython-input-53-d8cc6ffe4b29>\u001b[0m in \u001b[0;36m<module>\u001b[0;34m()\u001b[0m\n\u001b[0;32m----> 1\u001b[0;31m \u001b[0mfig1\u001b[0m\u001b[0;34m.\u001b[0m\u001b[0mshow\u001b[0m\u001b[0;34m(\u001b[0m\u001b[0;34m)\u001b[0m\u001b[0;34m\u001b[0m\u001b[0m\n\u001b[0m",
      "\u001b[0;31mAttributeError\u001b[0m: 'NoneType' object has no attribute 'show'"
     ]
    }
   ],
   "source": [
    "#nx.write_gpickle(G,\"test.gpickle\")"
   ]
  },
  {
   "cell_type": "code",
   "execution_count": null,
   "metadata": {
    "collapsed": true
   },
   "outputs": [],
   "source": []
  }
 ],
 "metadata": {
  "kernelspec": {
   "display_name": "Python 3",
   "language": "python",
   "name": "python3"
  },
  "language_info": {
   "codemirror_mode": {
    "name": "ipython",
    "version": 3
   },
   "file_extension": ".py",
   "mimetype": "text/x-python",
   "name": "python",
   "nbconvert_exporter": "python",
   "pygments_lexer": "ipython3",
   "version": "3.6.0"
  }
 },
 "nbformat": 4,
 "nbformat_minor": 2
}
