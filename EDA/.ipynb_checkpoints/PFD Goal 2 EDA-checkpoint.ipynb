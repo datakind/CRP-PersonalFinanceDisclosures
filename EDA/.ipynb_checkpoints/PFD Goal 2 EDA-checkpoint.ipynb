{
 "cells": [
  {
   "cell_type": "code",
   "execution_count": 42,
   "metadata": {},
   "outputs": [
    {
     "data": {
      "text/html": [
       "<script>requirejs.config({paths: { 'plotly': ['https://cdn.plot.ly/plotly-latest.min']},});if(!window.Plotly) {{require(['plotly'],function(plotly) {window.Plotly=plotly;});}}</script>"
      ],
      "text/vnd.plotly.v1+html": [
       "<script>requirejs.config({paths: { 'plotly': ['https://cdn.plot.ly/plotly-latest.min']},});if(!window.Plotly) {{require(['plotly'],function(plotly) {window.Plotly=plotly;});}}</script>"
      ]
     },
     "metadata": {},
     "output_type": "display_data"
    }
   ],
   "source": [
    "import pandas as pd\n",
    "import numpy as np\n",
    "import plotly.offline as plotly\n",
    "import plotly.graph_objs as pgo\n",
    "\n",
    "\n",
    "#from plotly.offline import download_plotlyjs, init_notebook_mode, plot, iplot\n",
    "#from plotly.graph_objs import Scatter, Figure, Layout\n",
    "plotly.init_notebook_mode(connected=True)\n",
    "\n"
   ]
  },
  {
   "cell_type": "code",
   "execution_count": 43,
   "metadata": {},
   "outputs": [],
   "source": [
    "# Load all Data -- only some columns\n",
    "pfd = pd.read_csv('../PFDrill/Goal1_PFD_1of3.csv.gz', compression='gzip', encoding = 'ISO-8859-1',\n",
    "                  usecols=['CID', 'Chamber', 'CalendarYear', 'AssetSource', 'TransactionType', 'Asset4Date'], \n",
    "                  dtype={'Asset4Date':str})\n",
    "# calendar years start from 0\n",
    "pfd.CalendarYear += 2000\n",
    "# some Chambers are lowercase\n",
    "pfd.Chamber = pfd.Chamber.str.upper()\n",
    "\n",
    "# Members of Congress\n",
    "pfdc = pfd.loc[pfd.Chamber.isin(['H', 'S'])]\n",
    "\n",
    "candidates = pd.read_csv('../PFDrill/Cands.csv.gz', compression='gzip', encoding = 'ISO-8859-1',\n",
    "                    usecols=['CID', 'Firstname', 'Lastname', 'Gender'],\n",
    "                        index_col='CID')\n",
    "candidates['Name'] = candidates.Firstname + ' ' + candidates.Lastname\n"
   ]
  },
  {
   "cell_type": "markdown",
   "metadata": {},
   "source": [
    "### Totals"
   ]
  },
  {
   "cell_type": "code",
   "execution_count": 44,
   "metadata": {},
   "outputs": [
    {
     "name": "stdout",
     "output_type": "stream",
     "text": [
      "Total PFDs 796901\n",
      "Total Members 35314\n"
     ]
    }
   ],
   "source": [
    "print('Total PFDs %d' % pfd.shape[0])\n",
    "print('Total Members %d' % candidates.shape[0])"
   ]
  },
  {
   "cell_type": "markdown",
   "metadata": {},
   "source": [
    "### PFDs by year"
   ]
  },
  {
   "cell_type": "code",
   "execution_count": 45,
   "metadata": {},
   "outputs": [
    {
     "data": {
      "application/vnd.plotly.v1+json": {
       "data": [
        {
         "x": [
          2000,
          2001,
          2002,
          2003,
          2004,
          2005,
          2006,
          2007,
          2008,
          2009,
          2010,
          2011,
          2012,
          2013,
          2014,
          2015,
          2016
         ],
         "y": [
          2,
          2,
          1,
          4,
          59499,
          56157,
          69987,
          66737,
          68158,
          73424,
          83342,
          80714,
          75364,
          80145,
          82300,
          30,
          1035
         ]
        }
       ],
       "layout": {}
      },
      "text/html": [
       "<div id=\"214f9003-c012-4402-9aaf-c2b0277bd328\" style=\"height: 525px; width: 100%;\" class=\"plotly-graph-div\"></div><script type=\"text/javascript\">require([\"plotly\"], function(Plotly) { window.PLOTLYENV=window.PLOTLYENV || {};window.PLOTLYENV.BASE_URL=\"https://plot.ly\";Plotly.newPlot(\"214f9003-c012-4402-9aaf-c2b0277bd328\", [{\"x\": [2000, 2001, 2002, 2003, 2004, 2005, 2006, 2007, 2008, 2009, 2010, 2011, 2012, 2013, 2014, 2015, 2016], \"y\": [2, 2, 1, 4, 59499, 56157, 69987, 66737, 68158, 73424, 83342, 80714, 75364, 80145, 82300, 30, 1035]}], {}, {\"showLink\": true, \"linkText\": \"Export to plot.ly\"})});</script>"
      ],
      "text/vnd.plotly.v1+html": [
       "<div id=\"214f9003-c012-4402-9aaf-c2b0277bd328\" style=\"height: 525px; width: 100%;\" class=\"plotly-graph-div\"></div><script type=\"text/javascript\">require([\"plotly\"], function(Plotly) { window.PLOTLYENV=window.PLOTLYENV || {};window.PLOTLYENV.BASE_URL=\"https://plot.ly\";Plotly.newPlot(\"214f9003-c012-4402-9aaf-c2b0277bd328\", [{\"x\": [2000, 2001, 2002, 2003, 2004, 2005, 2006, 2007, 2008, 2009, 2010, 2011, 2012, 2013, 2014, 2015, 2016], \"y\": [2, 2, 1, 4, 59499, 56157, 69987, 66737, 68158, 73424, 83342, 80714, 75364, 80145, 82300, 30, 1035]}], {}, {\"showLink\": true, \"linkText\": \"Export to plot.ly\"})});</script>"
      ]
     },
     "metadata": {},
     "output_type": "display_data"
    }
   ],
   "source": [
    "d = pfd.groupby(['CalendarYear']).size()\n",
    "plotly.iplot([{\"x\": d.index, \"y\": d}])\n"
   ]
  },
  {
   "cell_type": "markdown",
   "metadata": {},
   "source": [
    "### Number of people reporting by year"
   ]
  },
  {
   "cell_type": "code",
   "execution_count": 46,
   "metadata": {},
   "outputs": [
    {
     "data": {
      "application/vnd.plotly.v1+json": {
       "data": [
        {
         "x": [
          2000,
          2001,
          2002,
          2003,
          2004,
          2005,
          2006,
          2007,
          2008,
          2009,
          2010,
          2011,
          2012,
          2013,
          2014,
          2015,
          2016
         ],
         "y": [
          1,
          1,
          1,
          1,
          621,
          585,
          641,
          640,
          649,
          694,
          683,
          662,
          650,
          638,
          581,
          8,
          18
         ]
        }
       ],
       "layout": {}
      },
      "text/html": [
       "<div id=\"db283365-fa5e-4a3c-aa9c-5bbf3ce8c248\" style=\"height: 525px; width: 100%;\" class=\"plotly-graph-div\"></div><script type=\"text/javascript\">require([\"plotly\"], function(Plotly) { window.PLOTLYENV=window.PLOTLYENV || {};window.PLOTLYENV.BASE_URL=\"https://plot.ly\";Plotly.newPlot(\"db283365-fa5e-4a3c-aa9c-5bbf3ce8c248\", [{\"x\": [2000, 2001, 2002, 2003, 2004, 2005, 2006, 2007, 2008, 2009, 2010, 2011, 2012, 2013, 2014, 2015, 2016], \"y\": [1, 1, 1, 1, 621, 585, 641, 640, 649, 694, 683, 662, 650, 638, 581, 8, 18]}], {}, {\"showLink\": true, \"linkText\": \"Export to plot.ly\"})});</script>"
      ],
      "text/vnd.plotly.v1+html": [
       "<div id=\"db283365-fa5e-4a3c-aa9c-5bbf3ce8c248\" style=\"height: 525px; width: 100%;\" class=\"plotly-graph-div\"></div><script type=\"text/javascript\">require([\"plotly\"], function(Plotly) { window.PLOTLYENV=window.PLOTLYENV || {};window.PLOTLYENV.BASE_URL=\"https://plot.ly\";Plotly.newPlot(\"db283365-fa5e-4a3c-aa9c-5bbf3ce8c248\", [{\"x\": [2000, 2001, 2002, 2003, 2004, 2005, 2006, 2007, 2008, 2009, 2010, 2011, 2012, 2013, 2014, 2015, 2016], \"y\": [1, 1, 1, 1, 621, 585, 641, 640, 649, 694, 683, 662, 650, 638, 581, 8, 18]}], {}, {\"showLink\": true, \"linkText\": \"Export to plot.ly\"})});</script>"
      ]
     },
     "metadata": {},
     "output_type": "display_data"
    }
   ],
   "source": [
    "d = pfd.groupby('CalendarYear').CID.nunique()\n",
    "plotly.iplot([{\"x\": d.index, \"y\": d}])"
   ]
  },
  {
   "cell_type": "code",
   "execution_count": 47,
   "metadata": {},
   "outputs": [
    {
     "data": {
      "application/vnd.plotly.v1+json": {
       "data": [
        {
         "line": {
          "color": "#17BECF"
         },
         "name": "House",
         "opacity": 0.8,
         "type": "scatter",
         "x": [
          2000,
          2001,
          2002,
          2003,
          2004,
          2005,
          2006,
          2007,
          2008,
          2009,
          2010,
          2011,
          2012,
          2013,
          2014
         ],
         "y": [
          2,
          2,
          1,
          null,
          90.72058823529412,
          89.49435665914221,
          103.95901639344262,
          87.04024144869216,
          95.95705521472392,
          93.75791433891993,
          112.04761904761905,
          107.95393474088291,
          110.07364341085271,
          116.03168316831683,
          136.3918918918919
         ]
        },
        {
         "line": {
          "color": "#7F7F7F"
         },
         "name": "Senate",
         "opacity": 0.8,
         "type": "scatter",
         "x": [
          2000,
          2001,
          2002,
          2003,
          2004,
          2005,
          2006,
          2007,
          2008,
          2009,
          2010,
          2011,
          2012,
          2013,
          2014
         ],
         "y": [
          null,
          null,
          null,
          4,
          125.19266055045871,
          126.76237623762377,
          148.05454545454546,
          195.90654205607476,
          152.14414414414415,
          155.17391304347825,
          170.1965811965812,
          193.6509433962264,
          137.7433628318584,
          167.58490566037736,
          134.33
         ]
        }
       ],
       "layout": {
        "title": "Average number of disclosures by reporting member"
       }
      },
      "text/html": [
       "<div id=\"b380d30f-546b-4841-8a8b-5d986fbc127e\" style=\"height: 525px; width: 100%;\" class=\"plotly-graph-div\"></div><script type=\"text/javascript\">require([\"plotly\"], function(Plotly) { window.PLOTLYENV=window.PLOTLYENV || {};window.PLOTLYENV.BASE_URL=\"https://plot.ly\";Plotly.newPlot(\"b380d30f-546b-4841-8a8b-5d986fbc127e\", [{\"type\": \"scatter\", \"x\": [2000, 2001, 2002, 2003, 2004, 2005, 2006, 2007, 2008, 2009, 2010, 2011, 2012, 2013, 2014], \"y\": [2.0, 2.0, 1.0, null, 90.72058823529412, 89.49435665914221, 103.95901639344262, 87.04024144869216, 95.95705521472392, 93.75791433891993, 112.04761904761905, 107.95393474088291, 110.07364341085271, 116.03168316831683, 136.3918918918919], \"name\": \"House\", \"line\": {\"color\": \"#17BECF\"}, \"opacity\": 0.8}, {\"type\": \"scatter\", \"x\": [2000, 2001, 2002, 2003, 2004, 2005, 2006, 2007, 2008, 2009, 2010, 2011, 2012, 2013, 2014], \"y\": [null, null, null, 4.0, 125.19266055045871, 126.76237623762377, 148.05454545454546, 195.90654205607476, 152.14414414414415, 155.17391304347825, 170.1965811965812, 193.6509433962264, 137.7433628318584, 167.58490566037736, 134.33], \"name\": \"Senate\", \"line\": {\"color\": \"#7F7F7F\"}, \"opacity\": 0.8}], {\"title\": \"Average number of disclosures by reporting member\"}, {\"showLink\": true, \"linkText\": \"Export to plot.ly\"})});</script>"
      ],
      "text/vnd.plotly.v1+html": [
       "<div id=\"b380d30f-546b-4841-8a8b-5d986fbc127e\" style=\"height: 525px; width: 100%;\" class=\"plotly-graph-div\"></div><script type=\"text/javascript\">require([\"plotly\"], function(Plotly) { window.PLOTLYENV=window.PLOTLYENV || {};window.PLOTLYENV.BASE_URL=\"https://plot.ly\";Plotly.newPlot(\"b380d30f-546b-4841-8a8b-5d986fbc127e\", [{\"type\": \"scatter\", \"x\": [2000, 2001, 2002, 2003, 2004, 2005, 2006, 2007, 2008, 2009, 2010, 2011, 2012, 2013, 2014], \"y\": [2.0, 2.0, 1.0, null, 90.72058823529412, 89.49435665914221, 103.95901639344262, 87.04024144869216, 95.95705521472392, 93.75791433891993, 112.04761904761905, 107.95393474088291, 110.07364341085271, 116.03168316831683, 136.3918918918919], \"name\": \"House\", \"line\": {\"color\": \"#17BECF\"}, \"opacity\": 0.8}, {\"type\": \"scatter\", \"x\": [2000, 2001, 2002, 2003, 2004, 2005, 2006, 2007, 2008, 2009, 2010, 2011, 2012, 2013, 2014], \"y\": [null, null, null, 4.0, 125.19266055045871, 126.76237623762377, 148.05454545454546, 195.90654205607476, 152.14414414414415, 155.17391304347825, 170.1965811965812, 193.6509433962264, 137.7433628318584, 167.58490566037736, 134.33], \"name\": \"Senate\", \"line\": {\"color\": \"#7F7F7F\"}, \"opacity\": 0.8}], {\"title\": \"Average number of disclosures by reporting member\"}, {\"showLink\": true, \"linkText\": \"Export to plot.ly\"})});</script>"
      ]
     },
     "metadata": {},
     "output_type": "display_data"
    }
   ],
   "source": [
    "#TODO: there's definitely a better way to do this\n",
    "# count number of reporting members\n",
    "df1 = pfdc.groupby(['CalendarYear', 'Chamber']).CID.nunique().unstack()\n",
    "df1.columns = ['House', 'Senate']\n",
    "# count total numbers by year and chamber\n",
    "df2 = pfdc.groupby(['CalendarYear', 'Chamber']).size().unstack()\n",
    "df2.columns = ['House', 'Senate']\n",
    "df2.House /= df1.House\n",
    "df2.Senate /= df1.Senate\n",
    "\n",
    "h = pgo.Scatter(x=df2.index, y=df2.House, name = \"House\", line = dict(color = '#17BECF'),\n",
    "                opacity = 0.8)\n",
    "s = pgo.Scatter(x=df2.index, y=df2.Senate, name = \"Senate\", line = dict(color = '#7F7F7F'),\n",
    "                opacity = 0.8)\n",
    "\n",
    "\n",
    "layout = dict(title = \"Average number of disclosures by reporting member\")\n",
    "\n",
    "fig = dict(data=[h,s], layout=layout)\n",
    "plotly.iplot(fig, filename = \"\")\n"
   ]
  },
  {
   "cell_type": "code",
   "execution_count": 48,
   "metadata": {},
   "outputs": [
    {
     "data": {
      "application/vnd.plotly.v1+json": {
       "data": [
        {
         "line": {
          "color": "#17BECF"
         },
         "name": "Purchased",
         "type": "scatter",
         "x": [
          2004,
          2005,
          2006,
          2007,
          2008,
          2009,
          2010,
          2011,
          2012,
          2013,
          2014
         ],
         "y": [
          540,
          200,
          42,
          57,
          2049,
          2765,
          1694,
          1492,
          1272,
          1189,
          1661
         ]
        },
        {
         "line": {
          "color": "#ff0000"
         },
         "name": "Sold",
         "type": "scatter",
         "x": [
          2004,
          2005,
          2006,
          2007,
          2008,
          2009,
          2010,
          2011,
          2012,
          2013,
          2014
         ],
         "y": [
          244,
          159,
          51,
          72,
          855,
          1327,
          1566,
          1812,
          1924,
          1320,
          1411
         ]
        }
       ],
       "layout": {
        "autosize": true,
        "height": 400,
        "title": "Transactions by Michael MCCAUL",
        "width": 700
       }
      },
      "text/html": [
       "<div id=\"f8f5a02d-c660-4088-8027-c891853c3e78\" style=\"height: 400px; width: 700px;\" class=\"plotly-graph-div\"></div><script type=\"text/javascript\">require([\"plotly\"], function(Plotly) { window.PLOTLYENV=window.PLOTLYENV || {};window.PLOTLYENV.BASE_URL=\"https://plot.ly\";Plotly.newPlot(\"f8f5a02d-c660-4088-8027-c891853c3e78\", [{\"type\": \"scatter\", \"x\": [2004, 2005, 2006, 2007, 2008, 2009, 2010, 2011, 2012, 2013, 2014], \"y\": [540, 200, 42, 57, 2049, 2765, 1694, 1492, 1272, 1189, 1661], \"name\": \"Purchased\", \"line\": {\"color\": \"#17BECF\"}}, {\"type\": \"scatter\", \"x\": [2004, 2005, 2006, 2007, 2008, 2009, 2010, 2011, 2012, 2013, 2014], \"y\": [244, 159, 51, 72, 855, 1327, 1566, 1812, 1924, 1320, 1411], \"name\": \"Sold\", \"line\": {\"color\": \"#ff0000\"}}], {\"title\": \"Transactions by Michael MCCAUL\", \"autosize\": true, \"width\": 700, \"height\": 400}, {\"showLink\": true, \"linkText\": \"Export to plot.ly\"})});</script>"
      ],
      "text/vnd.plotly.v1+html": [
       "<div id=\"f8f5a02d-c660-4088-8027-c891853c3e78\" style=\"height: 400px; width: 700px;\" class=\"plotly-graph-div\"></div><script type=\"text/javascript\">require([\"plotly\"], function(Plotly) { window.PLOTLYENV=window.PLOTLYENV || {};window.PLOTLYENV.BASE_URL=\"https://plot.ly\";Plotly.newPlot(\"f8f5a02d-c660-4088-8027-c891853c3e78\", [{\"type\": \"scatter\", \"x\": [2004, 2005, 2006, 2007, 2008, 2009, 2010, 2011, 2012, 2013, 2014], \"y\": [540, 200, 42, 57, 2049, 2765, 1694, 1492, 1272, 1189, 1661], \"name\": \"Purchased\", \"line\": {\"color\": \"#17BECF\"}}, {\"type\": \"scatter\", \"x\": [2004, 2005, 2006, 2007, 2008, 2009, 2010, 2011, 2012, 2013, 2014], \"y\": [244, 159, 51, 72, 855, 1327, 1566, 1812, 1924, 1320, 1411], \"name\": \"Sold\", \"line\": {\"color\": \"#ff0000\"}}], {\"title\": \"Transactions by Michael MCCAUL\", \"autosize\": true, \"width\": 700, \"height\": 400}, {\"showLink\": true, \"linkText\": \"Export to plot.ly\"})});</script>"
      ]
     },
     "metadata": {},
     "output_type": "display_data"
    },
    {
     "data": {
      "application/vnd.plotly.v1+json": {
       "data": [
        {
         "line": {
          "color": "#17BECF"
         },
         "name": "Purchased",
         "type": "scatter",
         "x": [
          2010,
          2011,
          2012,
          2013,
          2014
         ],
         "y": [
          1051,
          3071,
          1108,
          971,
          1984
         ]
        },
        {
         "line": {
          "color": "#ff0000"
         },
         "name": "Sold",
         "type": "scatter",
         "x": [
          2010,
          2011,
          2012,
          2013,
          2014
         ],
         "y": [
          840,
          2393,
          829,
          810,
          1724
         ]
        }
       ],
       "layout": {
        "autosize": true,
        "height": 400,
        "title": "Transactions by Jim RENACCI",
        "width": 700
       }
      },
      "text/html": [
       "<div id=\"5c0a7032-c3db-4c19-9156-f796640cbeb8\" style=\"height: 400px; width: 700px;\" class=\"plotly-graph-div\"></div><script type=\"text/javascript\">require([\"plotly\"], function(Plotly) { window.PLOTLYENV=window.PLOTLYENV || {};window.PLOTLYENV.BASE_URL=\"https://plot.ly\";Plotly.newPlot(\"5c0a7032-c3db-4c19-9156-f796640cbeb8\", [{\"type\": \"scatter\", \"x\": [2010, 2011, 2012, 2013, 2014], \"y\": [1051, 3071, 1108, 971, 1984], \"name\": \"Purchased\", \"line\": {\"color\": \"#17BECF\"}}, {\"type\": \"scatter\", \"x\": [2010, 2011, 2012, 2013, 2014], \"y\": [840, 2393, 829, 810, 1724], \"name\": \"Sold\", \"line\": {\"color\": \"#ff0000\"}}], {\"title\": \"Transactions by Jim RENACCI\", \"autosize\": true, \"width\": 700, \"height\": 400}, {\"showLink\": true, \"linkText\": \"Export to plot.ly\"})});</script>"
      ],
      "text/vnd.plotly.v1+html": [
       "<div id=\"5c0a7032-c3db-4c19-9156-f796640cbeb8\" style=\"height: 400px; width: 700px;\" class=\"plotly-graph-div\"></div><script type=\"text/javascript\">require([\"plotly\"], function(Plotly) { window.PLOTLYENV=window.PLOTLYENV || {};window.PLOTLYENV.BASE_URL=\"https://plot.ly\";Plotly.newPlot(\"5c0a7032-c3db-4c19-9156-f796640cbeb8\", [{\"type\": \"scatter\", \"x\": [2010, 2011, 2012, 2013, 2014], \"y\": [1051, 3071, 1108, 971, 1984], \"name\": \"Purchased\", \"line\": {\"color\": \"#17BECF\"}}, {\"type\": \"scatter\", \"x\": [2010, 2011, 2012, 2013, 2014], \"y\": [840, 2393, 829, 810, 1724], \"name\": \"Sold\", \"line\": {\"color\": \"#ff0000\"}}], {\"title\": \"Transactions by Jim RENACCI\", \"autosize\": true, \"width\": 700, \"height\": 400}, {\"showLink\": true, \"linkText\": \"Export to plot.ly\"})});</script>"
      ]
     },
     "metadata": {},
     "output_type": "display_data"
    },
    {
     "data": {
      "application/vnd.plotly.v1+json": {
       "data": [
        {
         "line": {
          "color": "#17BECF"
         },
         "name": "Purchased",
         "type": "scatter",
         "x": [
          2006,
          2007,
          2008,
          2009,
          2010,
          2011,
          2012,
          2013,
          2014
         ],
         "y": [
          194,
          475,
          321,
          625,
          3158,
          1260,
          89,
          40,
          298
         ]
        },
        {
         "line": {
          "color": "#ff0000"
         },
         "name": "Sold",
         "type": "scatter",
         "x": [
          2006,
          2007,
          2008,
          2009,
          2010,
          2011,
          2012,
          2013,
          2014
         ],
         "y": [
          148,
          209,
          324,
          609,
          3453,
          1311,
          250,
          87,
          120
         ]
        }
       ],
       "layout": {
        "autosize": true,
        "height": 400,
        "title": "Transactions by Vernon BUCHANAN",
        "width": 700
       }
      },
      "text/html": [
       "<div id=\"5cacd28d-e105-45df-8d6e-dd00ba24de47\" style=\"height: 400px; width: 700px;\" class=\"plotly-graph-div\"></div><script type=\"text/javascript\">require([\"plotly\"], function(Plotly) { window.PLOTLYENV=window.PLOTLYENV || {};window.PLOTLYENV.BASE_URL=\"https://plot.ly\";Plotly.newPlot(\"5cacd28d-e105-45df-8d6e-dd00ba24de47\", [{\"type\": \"scatter\", \"x\": [2006, 2007, 2008, 2009, 2010, 2011, 2012, 2013, 2014], \"y\": [194, 475, 321, 625, 3158, 1260, 89, 40, 298], \"name\": \"Purchased\", \"line\": {\"color\": \"#17BECF\"}}, {\"type\": \"scatter\", \"x\": [2006, 2007, 2008, 2009, 2010, 2011, 2012, 2013, 2014], \"y\": [148, 209, 324, 609, 3453, 1311, 250, 87, 120], \"name\": \"Sold\", \"line\": {\"color\": \"#ff0000\"}}], {\"title\": \"Transactions by Vernon BUCHANAN\", \"autosize\": true, \"width\": 700, \"height\": 400}, {\"showLink\": true, \"linkText\": \"Export to plot.ly\"})});</script>"
      ],
      "text/vnd.plotly.v1+html": [
       "<div id=\"5cacd28d-e105-45df-8d6e-dd00ba24de47\" style=\"height: 400px; width: 700px;\" class=\"plotly-graph-div\"></div><script type=\"text/javascript\">require([\"plotly\"], function(Plotly) { window.PLOTLYENV=window.PLOTLYENV || {};window.PLOTLYENV.BASE_URL=\"https://plot.ly\";Plotly.newPlot(\"5cacd28d-e105-45df-8d6e-dd00ba24de47\", [{\"type\": \"scatter\", \"x\": [2006, 2007, 2008, 2009, 2010, 2011, 2012, 2013, 2014], \"y\": [194, 475, 321, 625, 3158, 1260, 89, 40, 298], \"name\": \"Purchased\", \"line\": {\"color\": \"#17BECF\"}}, {\"type\": \"scatter\", \"x\": [2006, 2007, 2008, 2009, 2010, 2011, 2012, 2013, 2014], \"y\": [148, 209, 324, 609, 3453, 1311, 250, 87, 120], \"name\": \"Sold\", \"line\": {\"color\": \"#ff0000\"}}], {\"title\": \"Transactions by Vernon BUCHANAN\", \"autosize\": true, \"width\": 700, \"height\": 400}, {\"showLink\": true, \"linkText\": \"Export to plot.ly\"})});</script>"
      ]
     },
     "metadata": {},
     "output_type": "display_data"
    },
    {
     "data": {
      "application/vnd.plotly.v1+json": {
       "data": [
        {
         "line": {
          "color": "#17BECF"
         },
         "name": "Purchased",
         "type": "scatter",
         "x": [
          2004,
          2005,
          2006,
          2007,
          2008,
          2009,
          2010
         ],
         "y": [
          590,
          394,
          699,
          1082,
          1609,
          1060,
          79
         ]
        },
        {
         "line": {
          "color": "#ff0000"
         },
         "name": "Sold",
         "type": "scatter",
         "x": [
          2004,
          2005,
          2006,
          2007,
          2008,
          2009,
          2010
         ],
         "y": [
          582,
          425,
          535,
          1002,
          1590,
          1881,
          94
         ]
        }
       ],
       "layout": {
        "autosize": true,
        "height": 400,
        "title": "Transactions by Jane HARMAN",
        "width": 700
       }
      },
      "text/html": [
       "<div id=\"9b550d84-7ecd-4078-8972-c047f9b77a07\" style=\"height: 400px; width: 700px;\" class=\"plotly-graph-div\"></div><script type=\"text/javascript\">require([\"plotly\"], function(Plotly) { window.PLOTLYENV=window.PLOTLYENV || {};window.PLOTLYENV.BASE_URL=\"https://plot.ly\";Plotly.newPlot(\"9b550d84-7ecd-4078-8972-c047f9b77a07\", [{\"type\": \"scatter\", \"x\": [2004, 2005, 2006, 2007, 2008, 2009, 2010], \"y\": [590, 394, 699, 1082, 1609, 1060, 79], \"name\": \"Purchased\", \"line\": {\"color\": \"#17BECF\"}}, {\"type\": \"scatter\", \"x\": [2004, 2005, 2006, 2007, 2008, 2009, 2010], \"y\": [582, 425, 535, 1002, 1590, 1881, 94], \"name\": \"Sold\", \"line\": {\"color\": \"#ff0000\"}}], {\"title\": \"Transactions by Jane HARMAN\", \"autosize\": true, \"width\": 700, \"height\": 400}, {\"showLink\": true, \"linkText\": \"Export to plot.ly\"})});</script>"
      ],
      "text/vnd.plotly.v1+html": [
       "<div id=\"9b550d84-7ecd-4078-8972-c047f9b77a07\" style=\"height: 400px; width: 700px;\" class=\"plotly-graph-div\"></div><script type=\"text/javascript\">require([\"plotly\"], function(Plotly) { window.PLOTLYENV=window.PLOTLYENV || {};window.PLOTLYENV.BASE_URL=\"https://plot.ly\";Plotly.newPlot(\"9b550d84-7ecd-4078-8972-c047f9b77a07\", [{\"type\": \"scatter\", \"x\": [2004, 2005, 2006, 2007, 2008, 2009, 2010], \"y\": [590, 394, 699, 1082, 1609, 1060, 79], \"name\": \"Purchased\", \"line\": {\"color\": \"#17BECF\"}}, {\"type\": \"scatter\", \"x\": [2004, 2005, 2006, 2007, 2008, 2009, 2010], \"y\": [582, 425, 535, 1002, 1590, 1881, 94], \"name\": \"Sold\", \"line\": {\"color\": \"#ff0000\"}}], {\"title\": \"Transactions by Jane HARMAN\", \"autosize\": true, \"width\": 700, \"height\": 400}, {\"showLink\": true, \"linkText\": \"Export to plot.ly\"})});</script>"
      ]
     },
     "metadata": {},
     "output_type": "display_data"
    },
    {
     "data": {
      "application/vnd.plotly.v1+json": {
       "data": [
        {
         "line": {
          "color": "#17BECF"
         },
         "name": "Purchased",
         "type": "scatter",
         "x": [
          2004,
          2005,
          2006,
          2007,
          2008,
          2009,
          2010,
          2012,
          2013,
          2014
         ],
         "y": [
          191,
          331,
          751,
          798,
          3,
          18,
          231,
          1011,
          830,
          862
         ]
        },
        {
         "line": {
          "color": "#ff0000"
         },
         "name": "Sold",
         "type": "scatter",
         "x": [
          2004,
          2005,
          2006,
          2007,
          2008,
          2009,
          2010,
          2012,
          2013,
          2014
         ],
         "y": [
          511,
          284,
          774,
          874,
          28,
          1,
          155,
          882,
          782,
          1411
         ]
        }
       ],
       "layout": {
        "autosize": true,
        "height": 400,
        "title": "Transactions by Kenny MARCHANT",
        "width": 700
       }
      },
      "text/html": [
       "<div id=\"c9d31898-e801-46dc-a946-337020c8a7d5\" style=\"height: 400px; width: 700px;\" class=\"plotly-graph-div\"></div><script type=\"text/javascript\">require([\"plotly\"], function(Plotly) { window.PLOTLYENV=window.PLOTLYENV || {};window.PLOTLYENV.BASE_URL=\"https://plot.ly\";Plotly.newPlot(\"c9d31898-e801-46dc-a946-337020c8a7d5\", [{\"type\": \"scatter\", \"x\": [2004, 2005, 2006, 2007, 2008, 2009, 2010, 2012, 2013, 2014], \"y\": [191, 331, 751, 798, 3, 18, 231, 1011, 830, 862], \"name\": \"Purchased\", \"line\": {\"color\": \"#17BECF\"}}, {\"type\": \"scatter\", \"x\": [2004, 2005, 2006, 2007, 2008, 2009, 2010, 2012, 2013, 2014], \"y\": [511, 284, 774, 874, 28, 1, 155, 882, 782, 1411], \"name\": \"Sold\", \"line\": {\"color\": \"#ff0000\"}}], {\"title\": \"Transactions by Kenny MARCHANT\", \"autosize\": true, \"width\": 700, \"height\": 400}, {\"showLink\": true, \"linkText\": \"Export to plot.ly\"})});</script>"
      ],
      "text/vnd.plotly.v1+html": [
       "<div id=\"c9d31898-e801-46dc-a946-337020c8a7d5\" style=\"height: 400px; width: 700px;\" class=\"plotly-graph-div\"></div><script type=\"text/javascript\">require([\"plotly\"], function(Plotly) { window.PLOTLYENV=window.PLOTLYENV || {};window.PLOTLYENV.BASE_URL=\"https://plot.ly\";Plotly.newPlot(\"c9d31898-e801-46dc-a946-337020c8a7d5\", [{\"type\": \"scatter\", \"x\": [2004, 2005, 2006, 2007, 2008, 2009, 2010, 2012, 2013, 2014], \"y\": [191, 331, 751, 798, 3, 18, 231, 1011, 830, 862], \"name\": \"Purchased\", \"line\": {\"color\": \"#17BECF\"}}, {\"type\": \"scatter\", \"x\": [2004, 2005, 2006, 2007, 2008, 2009, 2010, 2012, 2013, 2014], \"y\": [511, 284, 774, 874, 28, 1, 155, 882, 782, 1411], \"name\": \"Sold\", \"line\": {\"color\": \"#ff0000\"}}], {\"title\": \"Transactions by Kenny MARCHANT\", \"autosize\": true, \"width\": 700, \"height\": 400}, {\"showLink\": true, \"linkText\": \"Export to plot.ly\"})});</script>"
      ]
     },
     "metadata": {},
     "output_type": "display_data"
    },
    {
     "data": {
      "application/vnd.plotly.v1+json": {
       "data": [
        {
         "line": {
          "color": "#17BECF"
         },
         "name": "Purchased",
         "type": "scatter",
         "x": [
          2004,
          2005,
          2006,
          2007,
          2008,
          2009,
          2010,
          2011
         ],
         "y": [
          487,
          541,
          850,
          659,
          658,
          587,
          577,
          587
         ]
        },
        {
         "line": {
          "color": "#ff0000"
         },
         "name": "Sold",
         "type": "scatter",
         "x": [
          2004,
          2005,
          2006,
          2007,
          2008,
          2009,
          2010,
          2011
         ],
         "y": [
          337,
          494,
          378,
          358,
          633,
          435,
          438,
          null
         ]
        }
       ],
       "layout": {
        "autosize": true,
        "height": 400,
        "title": "Transactions by John KERRY",
        "width": 700
       }
      },
      "text/html": [
       "<div id=\"f4c0964c-859c-4274-aa7f-847d60f4340e\" style=\"height: 400px; width: 700px;\" class=\"plotly-graph-div\"></div><script type=\"text/javascript\">require([\"plotly\"], function(Plotly) { window.PLOTLYENV=window.PLOTLYENV || {};window.PLOTLYENV.BASE_URL=\"https://plot.ly\";Plotly.newPlot(\"f4c0964c-859c-4274-aa7f-847d60f4340e\", [{\"type\": \"scatter\", \"x\": [2004, 2005, 2006, 2007, 2008, 2009, 2010, 2011], \"y\": [487.0, 541.0, 850.0, 659.0, 658.0, 587.0, 577.0, 587.0], \"name\": \"Purchased\", \"line\": {\"color\": \"#17BECF\"}}, {\"type\": \"scatter\", \"x\": [2004, 2005, 2006, 2007, 2008, 2009, 2010, 2011], \"y\": [337.0, 494.0, 378.0, 358.0, 633.0, 435.0, 438.0, null], \"name\": \"Sold\", \"line\": {\"color\": \"#ff0000\"}}], {\"title\": \"Transactions by John KERRY\", \"autosize\": true, \"width\": 700, \"height\": 400}, {\"showLink\": true, \"linkText\": \"Export to plot.ly\"})});</script>"
      ],
      "text/vnd.plotly.v1+html": [
       "<div id=\"f4c0964c-859c-4274-aa7f-847d60f4340e\" style=\"height: 400px; width: 700px;\" class=\"plotly-graph-div\"></div><script type=\"text/javascript\">require([\"plotly\"], function(Plotly) { window.PLOTLYENV=window.PLOTLYENV || {};window.PLOTLYENV.BASE_URL=\"https://plot.ly\";Plotly.newPlot(\"f4c0964c-859c-4274-aa7f-847d60f4340e\", [{\"type\": \"scatter\", \"x\": [2004, 2005, 2006, 2007, 2008, 2009, 2010, 2011], \"y\": [487.0, 541.0, 850.0, 659.0, 658.0, 587.0, 577.0, 587.0], \"name\": \"Purchased\", \"line\": {\"color\": \"#17BECF\"}}, {\"type\": \"scatter\", \"x\": [2004, 2005, 2006, 2007, 2008, 2009, 2010, 2011], \"y\": [337.0, 494.0, 378.0, 358.0, 633.0, 435.0, 438.0, null], \"name\": \"Sold\", \"line\": {\"color\": \"#ff0000\"}}], {\"title\": \"Transactions by John KERRY\", \"autosize\": true, \"width\": 700, \"height\": 400}, {\"showLink\": true, \"linkText\": \"Export to plot.ly\"})});</script>"
      ]
     },
     "metadata": {},
     "output_type": "display_data"
    },
    {
     "data": {
      "application/vnd.plotly.v1+json": {
       "data": [
        {
         "line": {
          "color": "#17BECF"
         },
         "name": "Purchased",
         "type": "scatter",
         "x": [
          2004,
          2005,
          2006,
          2007,
          2008,
          2009,
          2010,
          2011,
          2012,
          2013
         ],
         "y": [
          410,
          287,
          382,
          513,
          678,
          246,
          11,
          16,
          27,
          24
         ]
        },
        {
         "line": {
          "color": "#ff0000"
         },
         "name": "Sold",
         "type": "scatter",
         "x": [
          2004,
          2005,
          2006,
          2007,
          2008,
          2009,
          2010,
          2011,
          2012,
          2013
         ],
         "y": [
          207,
          524,
          750,
          644,
          684,
          552,
          43,
          45,
          27,
          30
         ]
        }
       ],
       "layout": {
        "autosize": true,
        "height": 400,
        "title": "Transactions by Carolyn MCCARTHY",
        "width": 700
       }
      },
      "text/html": [
       "<div id=\"9b6bca5c-30ff-4315-9e94-eceecacb7dbb\" style=\"height: 400px; width: 700px;\" class=\"plotly-graph-div\"></div><script type=\"text/javascript\">require([\"plotly\"], function(Plotly) { window.PLOTLYENV=window.PLOTLYENV || {};window.PLOTLYENV.BASE_URL=\"https://plot.ly\";Plotly.newPlot(\"9b6bca5c-30ff-4315-9e94-eceecacb7dbb\", [{\"type\": \"scatter\", \"x\": [2004, 2005, 2006, 2007, 2008, 2009, 2010, 2011, 2012, 2013], \"y\": [410, 287, 382, 513, 678, 246, 11, 16, 27, 24], \"name\": \"Purchased\", \"line\": {\"color\": \"#17BECF\"}}, {\"type\": \"scatter\", \"x\": [2004, 2005, 2006, 2007, 2008, 2009, 2010, 2011, 2012, 2013], \"y\": [207, 524, 750, 644, 684, 552, 43, 45, 27, 30], \"name\": \"Sold\", \"line\": {\"color\": \"#ff0000\"}}], {\"title\": \"Transactions by Carolyn MCCARTHY\", \"autosize\": true, \"width\": 700, \"height\": 400}, {\"showLink\": true, \"linkText\": \"Export to plot.ly\"})});</script>"
      ],
      "text/vnd.plotly.v1+html": [
       "<div id=\"9b6bca5c-30ff-4315-9e94-eceecacb7dbb\" style=\"height: 400px; width: 700px;\" class=\"plotly-graph-div\"></div><script type=\"text/javascript\">require([\"plotly\"], function(Plotly) { window.PLOTLYENV=window.PLOTLYENV || {};window.PLOTLYENV.BASE_URL=\"https://plot.ly\";Plotly.newPlot(\"9b6bca5c-30ff-4315-9e94-eceecacb7dbb\", [{\"type\": \"scatter\", \"x\": [2004, 2005, 2006, 2007, 2008, 2009, 2010, 2011, 2012, 2013], \"y\": [410, 287, 382, 513, 678, 246, 11, 16, 27, 24], \"name\": \"Purchased\", \"line\": {\"color\": \"#17BECF\"}}, {\"type\": \"scatter\", \"x\": [2004, 2005, 2006, 2007, 2008, 2009, 2010, 2011, 2012, 2013], \"y\": [207, 524, 750, 644, 684, 552, 43, 45, 27, 30], \"name\": \"Sold\", \"line\": {\"color\": \"#ff0000\"}}], {\"title\": \"Transactions by Carolyn MCCARTHY\", \"autosize\": true, \"width\": 700, \"height\": 400}, {\"showLink\": true, \"linkText\": \"Export to plot.ly\"})});</script>"
      ]
     },
     "metadata": {},
     "output_type": "display_data"
    },
    {
     "data": {
      "application/vnd.plotly.v1+json": {
       "data": [
        {
         "line": {
          "color": "#17BECF"
         },
         "name": "Purchased",
         "type": "scatter",
         "x": [
          2004,
          2005,
          2006,
          2007,
          2008,
          2009,
          2010,
          2011,
          2012
         ],
         "y": [
          177,
          173,
          576,
          531,
          128,
          324,
          549,
          440,
          227
         ]
        },
        {
         "line": {
          "color": "#ff0000"
         },
         "name": "Sold",
         "type": "scatter",
         "x": [
          2004,
          2005,
          2006,
          2007,
          2008,
          2009,
          2010,
          2011,
          2012
         ],
         "y": [
          106,
          430,
          447,
          660,
          165,
          255,
          587,
          3,
          null
         ]
        }
       ],
       "layout": {
        "autosize": true,
        "height": 400,
        "title": "Transactions by Jeff BINGAMAN",
        "width": 700
       }
      },
      "text/html": [
       "<div id=\"bd5a8f1d-044a-46d2-bbf1-c0045cf0f95e\" style=\"height: 400px; width: 700px;\" class=\"plotly-graph-div\"></div><script type=\"text/javascript\">require([\"plotly\"], function(Plotly) { window.PLOTLYENV=window.PLOTLYENV || {};window.PLOTLYENV.BASE_URL=\"https://plot.ly\";Plotly.newPlot(\"bd5a8f1d-044a-46d2-bbf1-c0045cf0f95e\", [{\"type\": \"scatter\", \"x\": [2004, 2005, 2006, 2007, 2008, 2009, 2010, 2011, 2012], \"y\": [177.0, 173.0, 576.0, 531.0, 128.0, 324.0, 549.0, 440.0, 227.0], \"name\": \"Purchased\", \"line\": {\"color\": \"#17BECF\"}}, {\"type\": \"scatter\", \"x\": [2004, 2005, 2006, 2007, 2008, 2009, 2010, 2011, 2012], \"y\": [106.0, 430.0, 447.0, 660.0, 165.0, 255.0, 587.0, 3.0, null], \"name\": \"Sold\", \"line\": {\"color\": \"#ff0000\"}}], {\"title\": \"Transactions by Jeff BINGAMAN\", \"autosize\": true, \"width\": 700, \"height\": 400}, {\"showLink\": true, \"linkText\": \"Export to plot.ly\"})});</script>"
      ],
      "text/vnd.plotly.v1+html": [
       "<div id=\"bd5a8f1d-044a-46d2-bbf1-c0045cf0f95e\" style=\"height: 400px; width: 700px;\" class=\"plotly-graph-div\"></div><script type=\"text/javascript\">require([\"plotly\"], function(Plotly) { window.PLOTLYENV=window.PLOTLYENV || {};window.PLOTLYENV.BASE_URL=\"https://plot.ly\";Plotly.newPlot(\"bd5a8f1d-044a-46d2-bbf1-c0045cf0f95e\", [{\"type\": \"scatter\", \"x\": [2004, 2005, 2006, 2007, 2008, 2009, 2010, 2011, 2012], \"y\": [177.0, 173.0, 576.0, 531.0, 128.0, 324.0, 549.0, 440.0, 227.0], \"name\": \"Purchased\", \"line\": {\"color\": \"#17BECF\"}}, {\"type\": \"scatter\", \"x\": [2004, 2005, 2006, 2007, 2008, 2009, 2010, 2011, 2012], \"y\": [106.0, 430.0, 447.0, 660.0, 165.0, 255.0, 587.0, 3.0, null], \"name\": \"Sold\", \"line\": {\"color\": \"#ff0000\"}}], {\"title\": \"Transactions by Jeff BINGAMAN\", \"autosize\": true, \"width\": 700, \"height\": 400}, {\"showLink\": true, \"linkText\": \"Export to plot.ly\"})});</script>"
      ]
     },
     "metadata": {},
     "output_type": "display_data"
    },
    {
     "data": {
      "application/vnd.plotly.v1+json": {
       "data": [
        {
         "line": {
          "color": "#17BECF"
         },
         "name": "Purchased",
         "type": "scatter",
         "x": [
          2004,
          2005,
          2006,
          2007,
          2008,
          2009,
          2010,
          2011,
          2012,
          2013,
          2014
         ],
         "y": [
          5,
          241,
          332,
          96,
          789,
          260,
          818,
          93,
          82,
          85,
          71
         ]
        },
        {
         "line": {
          "color": "#ff0000"
         },
         "name": "Sold",
         "type": "scatter",
         "x": [
          2004,
          2005,
          2006,
          2007,
          2008,
          2009,
          2010,
          2011,
          2012,
          2013,
          2014
         ],
         "y": [
          11,
          225,
          228,
          93,
          740,
          247,
          564,
          100,
          33,
          142,
          62
         ]
        }
       ],
       "layout": {
        "autosize": true,
        "height": 400,
        "title": "Transactions by Lamar SMITH",
        "width": 700
       }
      },
      "text/html": [
       "<div id=\"a566f22a-a9aa-42d9-94b5-39f2dea0cbee\" style=\"height: 400px; width: 700px;\" class=\"plotly-graph-div\"></div><script type=\"text/javascript\">require([\"plotly\"], function(Plotly) { window.PLOTLYENV=window.PLOTLYENV || {};window.PLOTLYENV.BASE_URL=\"https://plot.ly\";Plotly.newPlot(\"a566f22a-a9aa-42d9-94b5-39f2dea0cbee\", [{\"type\": \"scatter\", \"x\": [2004, 2005, 2006, 2007, 2008, 2009, 2010, 2011, 2012, 2013, 2014], \"y\": [5, 241, 332, 96, 789, 260, 818, 93, 82, 85, 71], \"name\": \"Purchased\", \"line\": {\"color\": \"#17BECF\"}}, {\"type\": \"scatter\", \"x\": [2004, 2005, 2006, 2007, 2008, 2009, 2010, 2011, 2012, 2013, 2014], \"y\": [11, 225, 228, 93, 740, 247, 564, 100, 33, 142, 62], \"name\": \"Sold\", \"line\": {\"color\": \"#ff0000\"}}], {\"title\": \"Transactions by Lamar SMITH\", \"autosize\": true, \"width\": 700, \"height\": 400}, {\"showLink\": true, \"linkText\": \"Export to plot.ly\"})});</script>"
      ],
      "text/vnd.plotly.v1+html": [
       "<div id=\"a566f22a-a9aa-42d9-94b5-39f2dea0cbee\" style=\"height: 400px; width: 700px;\" class=\"plotly-graph-div\"></div><script type=\"text/javascript\">require([\"plotly\"], function(Plotly) { window.PLOTLYENV=window.PLOTLYENV || {};window.PLOTLYENV.BASE_URL=\"https://plot.ly\";Plotly.newPlot(\"a566f22a-a9aa-42d9-94b5-39f2dea0cbee\", [{\"type\": \"scatter\", \"x\": [2004, 2005, 2006, 2007, 2008, 2009, 2010, 2011, 2012, 2013, 2014], \"y\": [5, 241, 332, 96, 789, 260, 818, 93, 82, 85, 71], \"name\": \"Purchased\", \"line\": {\"color\": \"#17BECF\"}}, {\"type\": \"scatter\", \"x\": [2004, 2005, 2006, 2007, 2008, 2009, 2010, 2011, 2012, 2013, 2014], \"y\": [11, 225, 228, 93, 740, 247, 564, 100, 33, 142, 62], \"name\": \"Sold\", \"line\": {\"color\": \"#ff0000\"}}], {\"title\": \"Transactions by Lamar SMITH\", \"autosize\": true, \"width\": 700, \"height\": 400}, {\"showLink\": true, \"linkText\": \"Export to plot.ly\"})});</script>"
      ]
     },
     "metadata": {},
     "output_type": "display_data"
    },
    {
     "data": {
      "application/vnd.plotly.v1+json": {
       "data": [
        {
         "line": {
          "color": "#17BECF"
         },
         "name": "Purchased",
         "type": "scatter",
         "x": [
          2009,
          2010,
          2011,
          2012,
          2013
         ],
         "y": [
          283,
          1568,
          1423,
          828,
          739
         ]
        },
        {
         "line": {
          "color": "#ff0000"
         },
         "name": "Sold",
         "type": "scatter",
         "x": [
          2009,
          2010,
          2011,
          2012,
          2013
         ],
         "y": [
          245,
          38,
          11,
          27,
          8
         ]
        }
       ],
       "layout": {
        "autosize": true,
        "height": 400,
        "title": "Transactions by Kay R HAGAN",
        "width": 700
       }
      },
      "text/html": [
       "<div id=\"da0ecad2-3f85-41a1-9abf-8d4171361e39\" style=\"height: 400px; width: 700px;\" class=\"plotly-graph-div\"></div><script type=\"text/javascript\">require([\"plotly\"], function(Plotly) { window.PLOTLYENV=window.PLOTLYENV || {};window.PLOTLYENV.BASE_URL=\"https://plot.ly\";Plotly.newPlot(\"da0ecad2-3f85-41a1-9abf-8d4171361e39\", [{\"type\": \"scatter\", \"x\": [2009, 2010, 2011, 2012, 2013], \"y\": [283, 1568, 1423, 828, 739], \"name\": \"Purchased\", \"line\": {\"color\": \"#17BECF\"}}, {\"type\": \"scatter\", \"x\": [2009, 2010, 2011, 2012, 2013], \"y\": [245, 38, 11, 27, 8], \"name\": \"Sold\", \"line\": {\"color\": \"#ff0000\"}}], {\"title\": \"Transactions by Kay R HAGAN\", \"autosize\": true, \"width\": 700, \"height\": 400}, {\"showLink\": true, \"linkText\": \"Export to plot.ly\"})});</script>"
      ],
      "text/vnd.plotly.v1+html": [
       "<div id=\"da0ecad2-3f85-41a1-9abf-8d4171361e39\" style=\"height: 400px; width: 700px;\" class=\"plotly-graph-div\"></div><script type=\"text/javascript\">require([\"plotly\"], function(Plotly) { window.PLOTLYENV=window.PLOTLYENV || {};window.PLOTLYENV.BASE_URL=\"https://plot.ly\";Plotly.newPlot(\"da0ecad2-3f85-41a1-9abf-8d4171361e39\", [{\"type\": \"scatter\", \"x\": [2009, 2010, 2011, 2012, 2013], \"y\": [283, 1568, 1423, 828, 739], \"name\": \"Purchased\", \"line\": {\"color\": \"#17BECF\"}}, {\"type\": \"scatter\", \"x\": [2009, 2010, 2011, 2012, 2013], \"y\": [245, 38, 11, 27, 8], \"name\": \"Sold\", \"line\": {\"color\": \"#ff0000\"}}], {\"title\": \"Transactions by Kay R HAGAN\", \"autosize\": true, \"width\": 700, \"height\": 400}, {\"showLink\": true, \"linkText\": \"Export to plot.ly\"})});</script>"
      ]
     },
     "metadata": {},
     "output_type": "display_data"
    },
    {
     "data": {
      "application/vnd.plotly.v1+json": {
       "data": [
        {
         "line": {
          "color": "#17BECF"
         },
         "name": "Purchased",
         "type": "scatter",
         "x": [
          2004,
          2005,
          2006,
          2007,
          2008,
          2009,
          2010,
          2012,
          2013,
          2014
         ],
         "y": [
          59,
          312,
          195,
          225,
          2,
          null,
          43,
          330,
          314,
          249
         ]
        },
        {
         "line": {
          "color": "#ff0000"
         },
         "name": "Sold",
         "type": "scatter",
         "x": [
          2004,
          2005,
          2006,
          2007,
          2008,
          2009,
          2010,
          2012,
          2013,
          2014
         ],
         "y": [
          661,
          557,
          151,
          448,
          17,
          5,
          25,
          403,
          499,
          571
         ]
        }
       ],
       "layout": {
        "autosize": true,
        "height": 400,
        "title": "Transactions by Hal ROGERS",
        "width": 700
       }
      },
      "text/html": [
       "<div id=\"1e36f402-d6c2-4819-a016-f08969d2fe1d\" style=\"height: 400px; width: 700px;\" class=\"plotly-graph-div\"></div><script type=\"text/javascript\">require([\"plotly\"], function(Plotly) { window.PLOTLYENV=window.PLOTLYENV || {};window.PLOTLYENV.BASE_URL=\"https://plot.ly\";Plotly.newPlot(\"1e36f402-d6c2-4819-a016-f08969d2fe1d\", [{\"type\": \"scatter\", \"x\": [2004, 2005, 2006, 2007, 2008, 2009, 2010, 2012, 2013, 2014], \"y\": [59.0, 312.0, 195.0, 225.0, 2.0, null, 43.0, 330.0, 314.0, 249.0], \"name\": \"Purchased\", \"line\": {\"color\": \"#17BECF\"}}, {\"type\": \"scatter\", \"x\": [2004, 2005, 2006, 2007, 2008, 2009, 2010, 2012, 2013, 2014], \"y\": [661.0, 557.0, 151.0, 448.0, 17.0, 5.0, 25.0, 403.0, 499.0, 571.0], \"name\": \"Sold\", \"line\": {\"color\": \"#ff0000\"}}], {\"title\": \"Transactions by Hal ROGERS\", \"autosize\": true, \"width\": 700, \"height\": 400}, {\"showLink\": true, \"linkText\": \"Export to plot.ly\"})});</script>"
      ],
      "text/vnd.plotly.v1+html": [
       "<div id=\"1e36f402-d6c2-4819-a016-f08969d2fe1d\" style=\"height: 400px; width: 700px;\" class=\"plotly-graph-div\"></div><script type=\"text/javascript\">require([\"plotly\"], function(Plotly) { window.PLOTLYENV=window.PLOTLYENV || {};window.PLOTLYENV.BASE_URL=\"https://plot.ly\";Plotly.newPlot(\"1e36f402-d6c2-4819-a016-f08969d2fe1d\", [{\"type\": \"scatter\", \"x\": [2004, 2005, 2006, 2007, 2008, 2009, 2010, 2012, 2013, 2014], \"y\": [59.0, 312.0, 195.0, 225.0, 2.0, null, 43.0, 330.0, 314.0, 249.0], \"name\": \"Purchased\", \"line\": {\"color\": \"#17BECF\"}}, {\"type\": \"scatter\", \"x\": [2004, 2005, 2006, 2007, 2008, 2009, 2010, 2012, 2013, 2014], \"y\": [661.0, 557.0, 151.0, 448.0, 17.0, 5.0, 25.0, 403.0, 499.0, 571.0], \"name\": \"Sold\", \"line\": {\"color\": \"#ff0000\"}}], {\"title\": \"Transactions by Hal ROGERS\", \"autosize\": true, \"width\": 700, \"height\": 400}, {\"showLink\": true, \"linkText\": \"Export to plot.ly\"})});</script>"
      ]
     },
     "metadata": {},
     "output_type": "display_data"
    },
    {
     "data": {
      "application/vnd.plotly.v1+json": {
       "data": [
        {
         "line": {
          "color": "#17BECF"
         },
         "name": "Purchased",
         "type": "scatter",
         "x": [
          2004,
          2005,
          2006,
          2007,
          2008,
          2009,
          2010,
          2011,
          2012
         ],
         "y": [
          121,
          171,
          188,
          309,
          496,
          4,
          788,
          815,
          316
         ]
        },
        {
         "line": {
          "color": "#ff0000"
         },
         "name": "Sold",
         "type": "scatter",
         "x": [
          2004,
          2005,
          2006,
          2007,
          2008,
          2009,
          2010,
          2011,
          2012
         ],
         "y": [
          47,
          70,
          24,
          91,
          408,
          null,
          379,
          385,
          448
         ]
        }
       ],
       "layout": {
        "autosize": true,
        "height": 400,
        "title": "Transactions by Shelley BERKLEY",
        "width": 700
       }
      },
      "text/html": [
       "<div id=\"e1f001bc-15a4-4659-8b6e-80a8074b0942\" style=\"height: 400px; width: 700px;\" class=\"plotly-graph-div\"></div><script type=\"text/javascript\">require([\"plotly\"], function(Plotly) { window.PLOTLYENV=window.PLOTLYENV || {};window.PLOTLYENV.BASE_URL=\"https://plot.ly\";Plotly.newPlot(\"e1f001bc-15a4-4659-8b6e-80a8074b0942\", [{\"type\": \"scatter\", \"x\": [2004, 2005, 2006, 2007, 2008, 2009, 2010, 2011, 2012], \"y\": [121.0, 171.0, 188.0, 309.0, 496.0, 4.0, 788.0, 815.0, 316.0], \"name\": \"Purchased\", \"line\": {\"color\": \"#17BECF\"}}, {\"type\": \"scatter\", \"x\": [2004, 2005, 2006, 2007, 2008, 2009, 2010, 2011, 2012], \"y\": [47.0, 70.0, 24.0, 91.0, 408.0, null, 379.0, 385.0, 448.0], \"name\": \"Sold\", \"line\": {\"color\": \"#ff0000\"}}], {\"title\": \"Transactions by Shelley BERKLEY\", \"autosize\": true, \"width\": 700, \"height\": 400}, {\"showLink\": true, \"linkText\": \"Export to plot.ly\"})});</script>"
      ],
      "text/vnd.plotly.v1+html": [
       "<div id=\"e1f001bc-15a4-4659-8b6e-80a8074b0942\" style=\"height: 400px; width: 700px;\" class=\"plotly-graph-div\"></div><script type=\"text/javascript\">require([\"plotly\"], function(Plotly) { window.PLOTLYENV=window.PLOTLYENV || {};window.PLOTLYENV.BASE_URL=\"https://plot.ly\";Plotly.newPlot(\"e1f001bc-15a4-4659-8b6e-80a8074b0942\", [{\"type\": \"scatter\", \"x\": [2004, 2005, 2006, 2007, 2008, 2009, 2010, 2011, 2012], \"y\": [121.0, 171.0, 188.0, 309.0, 496.0, 4.0, 788.0, 815.0, 316.0], \"name\": \"Purchased\", \"line\": {\"color\": \"#17BECF\"}}, {\"type\": \"scatter\", \"x\": [2004, 2005, 2006, 2007, 2008, 2009, 2010, 2011, 2012], \"y\": [47.0, 70.0, 24.0, 91.0, 408.0, null, 379.0, 385.0, 448.0], \"name\": \"Sold\", \"line\": {\"color\": \"#ff0000\"}}], {\"title\": \"Transactions by Shelley BERKLEY\", \"autosize\": true, \"width\": 700, \"height\": 400}, {\"showLink\": true, \"linkText\": \"Export to plot.ly\"})});</script>"
      ]
     },
     "metadata": {},
     "output_type": "display_data"
    },
    {
     "data": {
      "application/vnd.plotly.v1+json": {
       "data": [
        {
         "line": {
          "color": "#17BECF"
         },
         "name": "Purchased",
         "type": "scatter",
         "x": [
          2008,
          2009,
          2010,
          2011,
          2012,
          2013,
          2014
         ],
         "y": [
          657,
          null,
          351,
          640,
          481,
          253,
          259
         ]
        },
        {
         "line": {
          "color": "#ff0000"
         },
         "name": "Sold",
         "type": "scatter",
         "x": [
          2008,
          2009,
          2010,
          2011,
          2012,
          2013,
          2014
         ],
         "y": [
          316,
          4,
          264,
          318,
          382,
          209,
          135
         ]
        }
       ],
       "layout": {
        "autosize": true,
        "height": 400,
        "title": "Transactions by Phil ROE",
        "width": 700
       }
      },
      "text/html": [
       "<div id=\"555c6ee1-62c8-4180-a84e-53945c612f4b\" style=\"height: 400px; width: 700px;\" class=\"plotly-graph-div\"></div><script type=\"text/javascript\">require([\"plotly\"], function(Plotly) { window.PLOTLYENV=window.PLOTLYENV || {};window.PLOTLYENV.BASE_URL=\"https://plot.ly\";Plotly.newPlot(\"555c6ee1-62c8-4180-a84e-53945c612f4b\", [{\"type\": \"scatter\", \"x\": [2008, 2009, 2010, 2011, 2012, 2013, 2014], \"y\": [657.0, null, 351.0, 640.0, 481.0, 253.0, 259.0], \"name\": \"Purchased\", \"line\": {\"color\": \"#17BECF\"}}, {\"type\": \"scatter\", \"x\": [2008, 2009, 2010, 2011, 2012, 2013, 2014], \"y\": [316.0, 4.0, 264.0, 318.0, 382.0, 209.0, 135.0], \"name\": \"Sold\", \"line\": {\"color\": \"#ff0000\"}}], {\"title\": \"Transactions by Phil ROE\", \"autosize\": true, \"width\": 700, \"height\": 400}, {\"showLink\": true, \"linkText\": \"Export to plot.ly\"})});</script>"
      ],
      "text/vnd.plotly.v1+html": [
       "<div id=\"555c6ee1-62c8-4180-a84e-53945c612f4b\" style=\"height: 400px; width: 700px;\" class=\"plotly-graph-div\"></div><script type=\"text/javascript\">require([\"plotly\"], function(Plotly) { window.PLOTLYENV=window.PLOTLYENV || {};window.PLOTLYENV.BASE_URL=\"https://plot.ly\";Plotly.newPlot(\"555c6ee1-62c8-4180-a84e-53945c612f4b\", [{\"type\": \"scatter\", \"x\": [2008, 2009, 2010, 2011, 2012, 2013, 2014], \"y\": [657.0, null, 351.0, 640.0, 481.0, 253.0, 259.0], \"name\": \"Purchased\", \"line\": {\"color\": \"#17BECF\"}}, {\"type\": \"scatter\", \"x\": [2008, 2009, 2010, 2011, 2012, 2013, 2014], \"y\": [316.0, 4.0, 264.0, 318.0, 382.0, 209.0, 135.0], \"name\": \"Sold\", \"line\": {\"color\": \"#ff0000\"}}], {\"title\": \"Transactions by Phil ROE\", \"autosize\": true, \"width\": 700, \"height\": 400}, {\"showLink\": true, \"linkText\": \"Export to plot.ly\"})});</script>"
      ]
     },
     "metadata": {},
     "output_type": "display_data"
    },
    {
     "data": {
      "application/vnd.plotly.v1+json": {
       "data": [
        {
         "line": {
          "color": "#17BECF"
         },
         "name": "Purchased",
         "type": "scatter",
         "x": [
          2004,
          2005,
          2006,
          2007,
          2008,
          2009,
          2010,
          2011,
          2012,
          2013
         ],
         "y": [
          86,
          67,
          48,
          104,
          94,
          93,
          131,
          92,
          868,
          672
         ]
        },
        {
         "line": {
          "color": "#ff0000"
         },
         "name": "Sold",
         "type": "scatter",
         "x": [
          2004,
          2005,
          2006,
          2007,
          2008,
          2009,
          2010,
          2011,
          2012,
          2013
         ],
         "y": [
          60,
          63,
          88,
          109,
          93,
          80,
          78,
          77,
          491,
          312
         ]
        }
       ],
       "layout": {
        "autosize": true,
        "height": 400,
        "title": "Transactions by Dave CAMP",
        "width": 700
       }
      },
      "text/html": [
       "<div id=\"7ea6b9bd-aafa-4f56-95eb-126a65b3f299\" style=\"height: 400px; width: 700px;\" class=\"plotly-graph-div\"></div><script type=\"text/javascript\">require([\"plotly\"], function(Plotly) { window.PLOTLYENV=window.PLOTLYENV || {};window.PLOTLYENV.BASE_URL=\"https://plot.ly\";Plotly.newPlot(\"7ea6b9bd-aafa-4f56-95eb-126a65b3f299\", [{\"type\": \"scatter\", \"x\": [2004, 2005, 2006, 2007, 2008, 2009, 2010, 2011, 2012, 2013], \"y\": [86, 67, 48, 104, 94, 93, 131, 92, 868, 672], \"name\": \"Purchased\", \"line\": {\"color\": \"#17BECF\"}}, {\"type\": \"scatter\", \"x\": [2004, 2005, 2006, 2007, 2008, 2009, 2010, 2011, 2012, 2013], \"y\": [60, 63, 88, 109, 93, 80, 78, 77, 491, 312], \"name\": \"Sold\", \"line\": {\"color\": \"#ff0000\"}}], {\"title\": \"Transactions by Dave CAMP\", \"autosize\": true, \"width\": 700, \"height\": 400}, {\"showLink\": true, \"linkText\": \"Export to plot.ly\"})});</script>"
      ],
      "text/vnd.plotly.v1+html": [
       "<div id=\"7ea6b9bd-aafa-4f56-95eb-126a65b3f299\" style=\"height: 400px; width: 700px;\" class=\"plotly-graph-div\"></div><script type=\"text/javascript\">require([\"plotly\"], function(Plotly) { window.PLOTLYENV=window.PLOTLYENV || {};window.PLOTLYENV.BASE_URL=\"https://plot.ly\";Plotly.newPlot(\"7ea6b9bd-aafa-4f56-95eb-126a65b3f299\", [{\"type\": \"scatter\", \"x\": [2004, 2005, 2006, 2007, 2008, 2009, 2010, 2011, 2012, 2013], \"y\": [86, 67, 48, 104, 94, 93, 131, 92, 868, 672], \"name\": \"Purchased\", \"line\": {\"color\": \"#17BECF\"}}, {\"type\": \"scatter\", \"x\": [2004, 2005, 2006, 2007, 2008, 2009, 2010, 2011, 2012, 2013], \"y\": [60, 63, 88, 109, 93, 80, 78, 77, 491, 312], \"name\": \"Sold\", \"line\": {\"color\": \"#ff0000\"}}], {\"title\": \"Transactions by Dave CAMP\", \"autosize\": true, \"width\": 700, \"height\": 400}, {\"showLink\": true, \"linkText\": \"Export to plot.ly\"})});</script>"
      ]
     },
     "metadata": {},
     "output_type": "display_data"
    },
    {
     "data": {
      "application/vnd.plotly.v1+json": {
       "data": [
        {
         "line": {
          "color": "#17BECF"
         },
         "name": "Purchased",
         "type": "scatter",
         "x": [
          2014
         ],
         "y": [
          898
         ]
        },
        {
         "line": {
          "color": "#ff0000"
         },
         "name": "Sold",
         "type": "scatter",
         "x": [
          2014
         ],
         "y": [
          2330
         ]
        }
       ],
       "layout": {
        "autosize": true,
        "height": 400,
        "title": "Transactions by CURT CLAWSON",
        "width": 700
       }
      },
      "text/html": [
       "<div id=\"74c9af00-a95e-4894-9aa2-b83592b2522f\" style=\"height: 400px; width: 700px;\" class=\"plotly-graph-div\"></div><script type=\"text/javascript\">require([\"plotly\"], function(Plotly) { window.PLOTLYENV=window.PLOTLYENV || {};window.PLOTLYENV.BASE_URL=\"https://plot.ly\";Plotly.newPlot(\"74c9af00-a95e-4894-9aa2-b83592b2522f\", [{\"type\": \"scatter\", \"x\": [2014], \"y\": [898], \"name\": \"Purchased\", \"line\": {\"color\": \"#17BECF\"}}, {\"type\": \"scatter\", \"x\": [2014], \"y\": [2330], \"name\": \"Sold\", \"line\": {\"color\": \"#ff0000\"}}], {\"title\": \"Transactions by CURT CLAWSON\", \"autosize\": true, \"width\": 700, \"height\": 400}, {\"showLink\": true, \"linkText\": \"Export to plot.ly\"})});</script>"
      ],
      "text/vnd.plotly.v1+html": [
       "<div id=\"74c9af00-a95e-4894-9aa2-b83592b2522f\" style=\"height: 400px; width: 700px;\" class=\"plotly-graph-div\"></div><script type=\"text/javascript\">require([\"plotly\"], function(Plotly) { window.PLOTLYENV=window.PLOTLYENV || {};window.PLOTLYENV.BASE_URL=\"https://plot.ly\";Plotly.newPlot(\"74c9af00-a95e-4894-9aa2-b83592b2522f\", [{\"type\": \"scatter\", \"x\": [2014], \"y\": [898], \"name\": \"Purchased\", \"line\": {\"color\": \"#17BECF\"}}, {\"type\": \"scatter\", \"x\": [2014], \"y\": [2330], \"name\": \"Sold\", \"line\": {\"color\": \"#ff0000\"}}], {\"title\": \"Transactions by CURT CLAWSON\", \"autosize\": true, \"width\": 700, \"height\": 400}, {\"showLink\": true, \"linkText\": \"Export to plot.ly\"})});</script>"
      ]
     },
     "metadata": {},
     "output_type": "display_data"
    }
   ],
   "source": [
    "buy_sell = pfdc[pfdc.TransactionType.isin(['Purchased', 'Sold'])]\n",
    "N = 15\n",
    "topN = buy_sell\\\n",
    "    .groupby(['CID']).size()\\\n",
    "    .sort_values(ascending=False)\\\n",
    "    .head(N)\\\n",
    "    .index\n",
    "df = buy_sell.loc[buy_sell.CID.isin(topN)]\\\n",
    "    .groupby(['CID', 'CalendarYear', 'TransactionType']).size()\n",
    "\n",
    "def member_buy_sell_graph(i):\n",
    "    d = buy_sell.loc[buy_sell.CID == topN[i]]\\\n",
    "        .groupby(['CalendarYear', 'TransactionType'])\\\n",
    "        .size()\\\n",
    "        .unstack()\n",
    "    d = pd.DataFrame(d.to_records())\n",
    "    d.set_index(d.CalendarYear)\n",
    "    b = pgo.Scatter(x=d.CalendarYear, y=d.Purchased, name = \"Purchased\", line = dict(color = '#17BECF'))\n",
    "    s = pgo.Scatter(x=d.CalendarYear, y=d.Sold, name = \"Sold\", line = dict(color = '#ff0000'))\n",
    "    name = candidates[candidates.index == topN[i]].iloc[0].Name\n",
    "    layout = pgo.Layout(title = \"Transactions by \" + name , autosize=True,\n",
    "        width=700,\n",
    "        height=400)\n",
    "    fig = dict(data=[b,s], layout=layout)\n",
    "    plotly.iplot(fig, filename = \"test\")\n",
    "\n",
    "for i in range(N):\n",
    "    member_buy_sell_graph(i) \n"
   ]
  },
  {
   "cell_type": "code",
   "execution_count": 49,
   "metadata": {},
   "outputs": [
    {
     "data": {
      "application/vnd.jupyter.widget-view+json": {
       "model_id": "704081fb88474a88a81150812aa6f216",
       "version_major": 2,
       "version_minor": 0
      },
      "text/plain": [
       "A Jupyter Widget"
      ]
     },
     "metadata": {},
     "output_type": "display_data"
    }
   ],
   "source": [
    "names =  candidates.loc[topN].Name\n",
    "#names\n",
    "\n",
    "import ipywidgets as widgets\n",
    "from ipywidgets import interactive\n",
    "\n",
    "import qgrid\n",
    "\n",
    "def show_buy_sells(name):\n",
    "    cid = names.index[names == name]\n",
    "    d = buy_sell[buy_sell.CID == cid[0]]\n",
    "    d = d.drop(['CID', 'Chamber'], axis=1).reset_index()\n",
    "    grid_options = {'forceFitColumns': True, 'editable': False, \n",
    "                    'enableAddRow': 0, 'autoEdit': False}\n",
    "    r = qgrid.show_grid(d, show_toolbar=True, grid_options={'forceFitColumns': True, 'editable': False, \n",
    "                    'enableAddRow': False, 'autoEdit': False})\n",
    "    return display(r)\n",
    "\n",
    "w = widgets.Dropdown(options=names.tolist())\n",
    "widgets.interactive(show_buy_sells, name=w)\n",
    "#topNdf = pd.DataFrame({'Name' : names})"
   ]
  },
  {
   "cell_type": "code",
   "execution_count": null,
   "metadata": {},
   "outputs": [],
   "source": []
  },
  {
   "cell_type": "code",
   "execution_count": null,
   "metadata": {},
   "outputs": [],
   "source": []
  }
 ],
 "metadata": {
  "kernelspec": {
   "display_name": "Python 3",
   "language": "python",
   "name": "python3"
  },
  "language_info": {
   "codemirror_mode": {
    "name": "ipython",
    "version": 3
   },
   "file_extension": ".py",
   "mimetype": "text/x-python",
   "name": "python",
   "nbconvert_exporter": "python",
   "pygments_lexer": "ipython3",
   "version": "3.6.3"
  }
 },
 "nbformat": 4,
 "nbformat_minor": 2
}
