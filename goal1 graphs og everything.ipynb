{
 "cells": [
  {
   "cell_type": "code",
   "execution_count": 206,
   "metadata": {
    "collapsed": true
   },
   "outputs": [],
   "source": [
    "import pandas as pd\n",
    "import numpy as np\n",
    "import re\n",
    "import sys\n",
    "from os.path import join as pjoin"
   ]
  },
  {
   "cell_type": "code",
   "execution_count": 208,
   "metadata": {
    "collapsed": true
   },
   "outputs": [],
   "source": [
    "# point to files\n",
    "asset_file = pjoin('data','goal2','PFDasset.csv')\n",
    "trans_file = pjoin('data','goal2','PFDtrans.csv')\n",
    "income_file = pjoin('data','goal2','PFDincome.csv')\n",
    "gift_file = pjoin('data','goal1','PFDgift.csv')\n",
    "honoraria_file = pjoin('data','goal1','PFDhonoraria.csv')\n",
    "libaility_file = pjoin('data','goal1','PFDliability.csv')\n",
    "psoition_file = pjoin('data','goal1','PFDposition.csv')\n",
    "tarvel_file = pjoin('data','goal1','PFDtravel.csv')\n",
    "\n",
    "# load files\n",
    "asset = pd.read_csv(asset_file, low_memory=False)\n",
    "trans = pd.read_csv(trans_file, low_memory=False)\n",
    "income = pd.read_csv(income_file, low_memory=False)\n",
    "gift = pd.read_csv(gift_file, low_memory=False)\n",
    "honoraria = pd.read_csv(honoraria_file, low_memory=False)\n",
    "liability = pd.read_csv(libaility_file, low_memory=False)\n",
    "position = pd.read_csv(psoition_file, low_memory=False)\n",
    "travel = pd.read_csv(tarvel_file, low_memory=False)\n",
    "\n",
    "# remove NAs\n",
    "asset.fillna('', inplace=True)\n",
    "trans.fillna('', inplace=True)\n",
    "income.fillna('',inplace=True)\n",
    "gift.fillna('',inplace=True)\n",
    "honoraria.fillna('',inplace=True)\n",
    "liability.fillna('',inplace=True)\n",
    "position.fillna('',inplace=True)\n",
    "travel.fillna('',inplace=True)"
   ]
  },
  {
   "cell_type": "code",
   "execution_count": 209,
   "metadata": {
    "collapsed": true
   },
   "outputs": [],
   "source": [
    "cols = ['CID','Chamber','CalendarYear','RealCode','RealCode2','AssetSource','Asset4Date','TransactionType','GiftInfo',\n",
    "        'Location']"
   ]
  },
  {
   "cell_type": "code",
   "execution_count": 210,
   "metadata": {
    "collapsed": true
   },
   "outputs": [],
   "source": [
    "def map_ultorg(row, schedule):\n",
    "    if row['Ultorg'] != '':\n",
    "        assetsource = row['Ultorg']\n",
    "    elif row['OrgName'] != '':\n",
    "        assetsource = row['OrgName']\n",
    "    else:\n",
    "        source = '{}Source'.format(schedule)\n",
    "        assetsource = row[source]\n",
    "    return assetsource\n",
    "\n",
    "def add_cols(df):\n",
    "    for c in cols:\n",
    "        if c not in df.columns:\n",
    "            df[c] = ''\n",
    "    return df.copy()"
   ]
  },
  {
   "cell_type": "code",
   "execution_count": 211,
   "metadata": {
    "collapsed": true
   },
   "outputs": [],
   "source": [
    "# modify trans to get the desired columns\n",
    "trans['AssetSource'] = np.vectorize(lambda x,y:'{} {}'.format(x,y).strip())(trans['Asset4Transacted'],trans['Asset4Descrip'])\n",
    "def match_trans_type(row):\n",
    "    if not re.match('^ +$',row['Asset4Sold']):\n",
    "        ttype = 'Sold'\n",
    "    elif not re.match('^ +$',row['Asset4Exchanged']):\n",
    "        ttype = 'Exchanged'\n",
    "    elif not re.match('^ +$',row['Asset4Purchased']):\n",
    "        ttype = 'Purchased'\n",
    "    else:\n",
    "        ttype = 'UnspecifiedTransactionType'\n",
    "    return ttype\n",
    "# # trans['TransactionType'] = ''\n",
    "# for c in cols:\n",
    "#     if c not in trans.columns:\n",
    "#         trans[c] = ''\n",
    "trans['TransactionType'] = trans.apply(match_trans_type, axis=1)\n",
    "trans = add_cols(trans)"
   ]
  },
  {
   "cell_type": "code",
   "execution_count": 212,
   "metadata": {
    "collapsed": true
   },
   "outputs": [],
   "source": [
    "gift['Asset4Date'] = gift['GiftDate']\n",
    "gift['TransactionType'] = 'Gift'\n",
    "gift['SenAB'] = ''\n",
    "gift['CalendarYear'] = gift['CalenderYear']\n",
    "gift['RealCode2'] = ''\n",
    "gift['Location'] = gift['GiftLocation']\n",
    "gift['AssetSource'] = gift.apply(lambda x: map_ultorg(x,'Gift'), axis=1)\n",
    "# TODO: check for and address the duplicates in gift"
   ]
  },
  {
   "cell_type": "code",
   "execution_count": 213,
   "metadata": {
    "collapsed": true
   },
   "outputs": [],
   "source": [
    "income.shape\n",
    "income.head()\n",
    "income['Location'] = income['IncomeLocation']\n",
    "income['TransactionType'] = 'income'\n",
    "income['AssetSource'] = income.apply(lambda x: map_ultorg(x,'Income'), axis=1)\n",
    "for c in cols:\n",
    "    if c not in income.columns:\n",
    "        income[c] = ''"
   ]
  },
  {
   "cell_type": "code",
   "execution_count": 214,
   "metadata": {},
   "outputs": [],
   "source": [
    "liability.shape\n",
    "# print(liability.head())\n",
    "liability.tail()\n",
    "liability['LiabilitySource'] = liability['Creditor']\n",
    "liability['TransactionType'] = 'liability'\n",
    "liability['CalendarYear'] = liability['CalenderYear']\n",
    "liability['Location'] = liability['LiabilityDate']\n",
    "# liability[cols]\n",
    "# liability.head()\n",
    "liability['LiabilityDateText'].value_counts()\n",
    "\n",
    "months_dict = {'january':'01/01/', 'february':'02/01/', 'march':'03/01/',\n",
    "               'april':'04/01/', 'may':'05/01/', 'june':'06/01/',\n",
    "               'july':'07/01/', 'august':'08/01/', 'september':'09/01/',\n",
    "               'october':'10/01/','november':'11/01/', 'december':'12/01/',\n",
    "               'jan':'01/01/', 'feb':'02/01/', 'mar':'03/01/',\n",
    "               'apr':'04/01/', 'may':'05/01/', 'jun':'06/01/',\n",
    "               'jul':'07/01/', 'aug':'08/01/', 'sep':'09/01/', 'oct':'10/01/',\n",
    "               'nov':'11/01/', 'dec':'12/01/', 'sept':'09/01'}\n",
    "def extend_year(year):\n",
    "    if int(year) < 75:\n",
    "        return '20{}'.format(year)\n",
    "    else:\n",
    "        return '19{}'.format(year)\n",
    "\n",
    "def do_dates(date):\n",
    "    if date == '':\n",
    "        return date\n",
    "    if re.match('^[0-9]{4}$',date):\n",
    "        return '01/01/{}'.format(date)\n",
    "    if re.match('^[0-9]{2}$',date):\n",
    "        if int(date) > 75:\n",
    "            return '01/01/19{}'.format(date)\n",
    "        else:\n",
    "            return '01/01/20{}'.format(date)\n",
    "    bads = ['Purch','Late','REVOLVING']\n",
    "    if len(date.split(' ')) > 1 and not any(b in date for b in bads):\n",
    "        date = date.split(' ')\n",
    "        month = date[0].lower()\n",
    "        return \"{}{}\".format(months_dict[month],date[1])\n",
    "    m = re.match('^[0-9]{6}$',date)\n",
    "    if m:\n",
    "        month, day, year = date[2:4],date[4:],date[:2]\n",
    "        if int(year) < 75:\n",
    "            year = '20{}'.format(year)\n",
    "        else:\n",
    "            year = '19{}'.format(year)\n",
    "        return '{}/{}/{}'.format(month,day, year)\n",
    "    m = re.match('^[0-9]{1,2}/[0-9]{2,4}$',date)\n",
    "    if m:\n",
    "        date = date.split('/')\n",
    "        month = date[0]\n",
    "        year = date[1]\n",
    "        if len(year) < 4:\n",
    "            year = extend_year(year)\n",
    "        if len(month) == 1:\n",
    "            month = '0{}'.format(month)\n",
    "        return '{}/01/{}'.format(month,year)\n",
    "    m = re.match('^[0-9]{2}/[0-9]{2}/\\d{4}$',date)\n",
    "    if m:\n",
    "        return date\n",
    "    m = re.match('^\\d{2}/\\d{2}/\\d{2}$',date)\n",
    "    if m:\n",
    "        return '{}20{}'.format(date[:-2],date[-2:])\n",
    "    if 'REVOLVING' in date:\n",
    "        return ''\n",
    "    if 'Late' in date:\n",
    "        return date[-4:]\n",
    "    m = re.match('^(\\d{1})/(\\d{1})/(\\d{2})$',date)\n",
    "    if m:\n",
    "        year = extend_year(m.group(3))\n",
    "        return '0{}/0{}/{}'.format(m.group(2),m.group(1),year)\n",
    "    # TODO: this ignores ranges and only takes the latest date\n",
    "    if '-' in date:\n",
    "        date = date.split('-')\n",
    "        date = date[1]\n",
    "        if len(date) == 2:\n",
    "            date = extend_year(date)\n",
    "        return '01/01/{}'.format(date)\n",
    "    if 'to' in date:\n",
    "        date = date.split('to')[-1].strip()\n",
    "        m = re.match('^(\\d)/(\\d{4})$',date)\n",
    "        month = '0{}'.format(m.group(1))\n",
    "        return '{}/01/{}'.format(month,m.group(2))\n",
    "    if date == '2003/05': \n",
    "        return '01/01/2005'\n",
    "    if date == '2003/2009':\n",
    "        return '01/01/2009'\n",
    "holder = liability['LiabilityDateText'].apply(do_dates)\n",
    "liability['AssetSource'] = liability.apply(lambda x: map_ultorg(x,'Liability'), axis=1)\n",
    "\n",
    "liability['Asset4Date'] = liability['LiabilityDateText']\n",
    "for c in cols:\n",
    "    if c not in liability.columns:\n",
    "        liability[c] = ''"
   ]
  },
  {
   "cell_type": "code",
   "execution_count": 215,
   "metadata": {
    "collapsed": true
   },
   "outputs": [],
   "source": [
    "honoraria.shape\n",
    "honoraria.head()\n",
    "honoraria['Asset4Date'] = honoraria['HonorariaDate']\n",
    "honoraria['Location'] = honoraria['HonorariaSourceLocation']\n",
    "honoraria['TransactionType'] = 'honoraria'\n",
    "honoraria['AssetSource'] = honoraria.apply(lambda x: map_ultorg(x,'Honoraria'), axis=1)\n",
    "for c in cols:\n",
    "    if c not in honoraria.columns:\n",
    "        honoraria[c] = ''"
   ]
  },
  {
   "cell_type": "code",
   "execution_count": 216,
   "metadata": {},
   "outputs": [],
   "source": [
    "position.shape\n",
    "position.tail()\n",
    "def pos_map_ultorg(row):\n",
    "    if row['Ultorg'] != '':\n",
    "        assetsource = row['Ultorg']\n",
    "    elif row['OrgName'] != '':\n",
    "        assetsource = row['OrgName']\n",
    "    else:\n",
    "        source = 'PositionOrg'\n",
    "        assetsource = row[source]\n",
    "    return assetsource\n",
    "position['TransactionType'] = position['PositionHeld']\n",
    "# position['AssetSource'] = position.apply(pos_map_ultorg, axis=1)\n",
    "position['Location'] = position['PositionOrgLoc']\n",
    "position.tail()\n",
    "position['Asset4Date'] = np.vectorize(lambda x,y:'{} - {}'.format(x,y))(position['PositionFromDate'],position[\"PositionToDate\"])\n",
    "position = add_cols(position)"
   ]
  },
  {
   "cell_type": "code",
   "execution_count": 217,
   "metadata": {},
   "outputs": [],
   "source": [
    "travel.shape\n",
    "travel['AssetSource'] = travel.apply(lambda x:map_ultorg(x,'Travel'), axis=1)\n",
    "def good_dates(x,y):\n",
    "    x = '{}/{}/{}'.format(x[-2:],x[2:4],x[:2])\n",
    "    y = '{}/{}/{}'.format(y[-2:],y[2:4],y[:2])\n",
    "    return '{} to {}'.format(x,y)\n",
    "travel['Asset4Date'] = np.vectorize(good_dates)(travel['BeginDate'],travel['EndDate'])\n",
    "travel['Location'] = np.vectorize(lambda x,y:'{} {}'.format(x,y))(travel['Dummy City'],travel['Dummy State'])\n",
    "# travel[travel.columns.values[15:]]\n",
    "travel['TransactionType'] = 'travel'\n",
    "travel = add_cols(travel)"
   ]
  },
  {
   "cell_type": "code",
   "execution_count": 218,
   "metadata": {},
   "outputs": [],
   "source": [
    "idx = asset.shape[0] - 2459\n",
    "asset_long = asset.iloc[:idx].copy()\n",
    "asset_short = asset.iloc[idx:].copy()\n",
    "asset_long.shape, asset_short.shape\n",
    "asset_long['AssetSouce'] = asset_long.apply(lambda x: map_ultorg(x,'Asset'), axis=1)\n",
    "asset_long['TransactionType'] = 'asset'\n",
    "asset_long['Asset4Date'] = asset_long['Date']\n",
    "asset_long = add_cols(asset_long)\n",
    "asset_short['AssetSource'] = asset_short['Ultorg']\n",
    "asset_short['OrgName'] = asset_short['RealCode']\n",
    "asset_short['RealCode'] = asset_short['AssetDescrip']\n",
    "asset_short['AssetSouce'] = asset_short.apply(lambda x: map_ultorg(x,'Asset'), axis=1)\n",
    "asset_short['Asset4Date'] = ''\n",
    "asset_short['TransactionType'] = 'asset'\n",
    "asset_short = add_cols(asset_short)"
   ]
  },
  {
   "cell_type": "code",
   "execution_count": 219,
   "metadata": {},
   "outputs": [],
   "source": [
    "goal_1_PFD = pd.concat([trans[cols], gift[cols], income[cols], honoraria[cols], liability[cols], position[cols], \n",
    "                        travel[cols], asset_long[cols], asset_short[cols]], ignore_index=True)\n",
    "goal1_file =  pjoin('data','goal1','Goal1_PFD_concat.csv')\n",
    "goal_1_PFD.to_csv(goal1_file,index=False)\n"
   ]
  },
  {
   "cell_type": "code",
   "execution_count": null,
   "metadata": {
    "collapsed": true
   },
   "outputs": [],
   "source": []
  }
 ],
 "metadata": {
  "kernelspec": {
   "display_name": "Python 3",
   "language": "python",
   "name": "python3"
  },
  "language_info": {
   "codemirror_mode": {
    "name": "ipython",
    "version": 3
   },
   "file_extension": ".py",
   "mimetype": "text/x-python",
   "name": "python",
   "nbconvert_exporter": "python",
   "pygments_lexer": "ipython3",
   "version": "3.5.4"
  }
 },
 "nbformat": 4,
 "nbformat_minor": 2
}
